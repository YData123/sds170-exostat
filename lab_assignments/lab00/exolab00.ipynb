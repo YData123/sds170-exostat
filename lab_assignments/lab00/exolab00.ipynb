{
 "cells": [
  {
   "cell_type": "markdown",
   "metadata": {},
   "source": [
    "# ExoStat Lab 0: Getting started with Python and Jupyter Notebooks\n",
    "\n",
    "Welcome to YData: ExoStatistics:  Exploring Extrasolar Planets with Data Science!  \n",
    "\n",
    "Most class meeting times will include a lecture portion and a lab portion.  This is the first ExoStat Lab and the purpose of the labs is to give you hands-on experience using the skills from the main YData course (S&DS 123/523) while working within a particular domain.  For this seminar, the focus is on detecting and characterizing exoplanets!\n",
    "\n",
    "Before we get started, there are some administrative details.\n",
    "\n",
    "- ExoStat Lab 0 (i.e., this lab) will **not** be turned in for credit, though generally the ExoStat Labs **will** be required and turned in for credit.\n",
    "\n",
    "- Question 1 of this lab is the same as the Practice 01 question 1 found on the main [YData website](http://ydata123.org/sp19/) -- it explains the basic setup of a Jupyter Notebook.  I highly recommend that you work on the Practice exercises each week, and especially the rest of Practice 01.  \n",
    "\n",
    "- Collaborating on the ExoStat Labs is encouraged. If you get stuck for a while on a question, feel free to ask a neighbor or come to the instructor's or TF's office hours for additional help. (Explaining things is beneficial, too -- the best way to solidify your knowledge of a subject is to explain it.) Please don't just share answers, though.\n",
    "\n",
    "This term we will be using Piazza for class discussion. Find our class page [here](https://piazza.com/yale/spring2019/sds170/home)\n",
    "\n",
    "You can read more about course policies on our [canvas site](https://canvas.yale.edu).\n",
    "\n",
    "\n",
    "#### Today's ExoStat Lab\n",
    "\n",
    "In today's exercises, you'll learn how to:\n",
    "\n",
    "1. navigate Jupyter notebooks (like this one);\n",
    "2. write and evaluate some basic *expressions* in Python, the computer language of the course;\n",
    "3. call *functions* to use code other people have written; and\n",
    "4. break down Python code into smaller parts to understand it.\n",
    "\n",
    "Textbook reference:  [Chapter 3](http://www.inferentialthinking.com/chapters/03/programming-in-python.html) \n",
    "\n",
    "Credit:  Some aspects of this lab have been adapted from Berkeley's Data8 course."
   ]
  },
  {
   "cell_type": "markdown",
   "metadata": {},
   "source": [
    "# 1. Jupyter notebooks\n",
    "This webpage is called a Jupyter notebook. A notebook is a place to write programs and view their results.\n",
    "\n",
    "## 1.1. Text cells\n",
    "In a notebook, each rectangle containing text or code is called a *cell*.\n",
    "\n",
    "Text cells (like this one) can be edited by double-clicking on them. They're written in a simple format called [Markdown](http://daringfireball.net/projects/markdown/syntax) to add formatting and section headings.  You don't need to learn Markdown, but you might want to.\n",
    "\n",
    "After you edit a text cell, click the \"run cell\" button at the top that looks like ▶| to confirm any changes. (Try not to delete the instructions of the lab.)"
   ]
  },
  {
   "cell_type": "markdown",
   "metadata": {},
   "source": [
    "**Question 1.1.1.** This paragraph is in its own text cell.  Try editing it so that this sentence is the last sentence in the paragraph, and then click the \"run cell\" ▶| button .  This sentence, for example, should be deleted.  So should this one."
   ]
  },
  {
   "cell_type": "markdown",
   "metadata": {},
   "source": [
    "## 1.2. Code cells\n",
    "Other cells contain code in the Python 3 language. Running a code cell will execute all of the code it contains.\n",
    "\n",
    "To run the code in a code cell, first click on that cell to activate it.  It'll be highlighted with a little green or blue rectangle.  Next, either press ▶| or hold down the `shift` key and press `return` or `enter`.\n",
    "\n",
    "Try running this cell:"
   ]
  },
  {
   "cell_type": "code",
   "execution_count": null,
   "metadata": {},
   "outputs": [],
   "source": [
    "print(\"Hello, World!\")"
   ]
  },
  {
   "cell_type": "markdown",
   "metadata": {},
   "source": [
    "And this one:"
   ]
  },
  {
   "cell_type": "code",
   "execution_count": null,
   "metadata": {},
   "outputs": [],
   "source": [
    "print(\"\\N{WAVING HAND SIGN}, \\N{EARTH GLOBE ASIA-AUSTRALIA}!\")"
   ]
  },
  {
   "cell_type": "markdown",
   "metadata": {},
   "source": [
    "The fundamental building block of Python code is an expression. Cells can contain multiple lines with multiple expressions. When you run a cell, the lines of code are executed in the order in which they appear. Every `print` expression prints a line. Run the next cell and notice the order of the output."
   ]
  },
  {
   "cell_type": "code",
   "execution_count": null,
   "metadata": {},
   "outputs": [],
   "source": [
    "print(\"First this line is printed,\")\n",
    "print(\"and then this one.\")"
   ]
  },
  {
   "cell_type": "markdown",
   "metadata": {},
   "source": [
    "**Question 1.2.1.** Change the cell above so that it prints out:\n",
    "\n",
    "    First this line,\n",
    "    then the whole 🌏,\n",
    "    and then this one.\n",
    "\n",
    "*Hint:* If you're stuck on the Earth symbol for more than a few minutes, try talking to a neighbor or a TF.  That's a good idea for any exercise."
   ]
  },
  {
   "cell_type": "markdown",
   "metadata": {},
   "source": [
    "## 1.3. Writing Jupyter notebooks\n",
    "You can use Jupyter notebooks for your own projects or documents.  When you make your own notebook, you'll need to create your own cells for text and code.\n",
    "\n",
    "To add a cell, click the + button in the menu bar.  It'll start out as a text cell.  You can change it to a code cell by clicking inside it so it's highlighted, clicking the drop-down box next to the restart (⟳) button in the menu bar, and choosing \"Code\".\n",
    "\n",
    "**Question 1.3.1.** Add a code cell below this one.  Write code in it that prints out:\n",
    "   \n",
    "    A whole new cell! ♪🌏♪\n",
    "\n",
    "(That musical note symbol is like the Earth symbol.  Its long-form name is `\\N{EIGHTH NOTE}`.)\n",
    "\n",
    "Run your cell to verify that it works."
   ]
  },
  {
   "cell_type": "markdown",
   "metadata": {},
   "source": [
    "## 1.4. Errors\n",
    "Python is a language, and like natural human languages, it has rules.  It differs from natural language in two important ways:\n",
    "1. The rules are *simple*.  You can learn most of them in a few weeks and gain reasonable proficiency with the language in a semester.\n",
    "2. The rules are *rigid*.  If you're proficient in a natural language, you can understand a non-proficient speaker, glossing over small mistakes.  A computer running Python code is not smart enough to do that.\n",
    "\n",
    "Whenever you write code, you'll make mistakes.  When you run a code cell that has errors, Python will sometimes produce error messages to tell you what you did wrong.\n",
    "\n",
    "Errors are okay; even experienced programmers make many errors.  When you make an error, you just have to find the source of the problem, fix it, and move on.\n",
    "\n",
    "We have made an error in the next cell.  Run it and see what happens."
   ]
  },
  {
   "cell_type": "code",
   "execution_count": null,
   "metadata": {},
   "outputs": [],
   "source": [
    "print(\"This line is missing something.\""
   ]
  },
  {
   "cell_type": "markdown",
   "metadata": {},
   "source": [
    "You should see something like this (minus our annotations):\n",
    "\n",
    "<img src=\"error.jpg\"/>\n",
    "\n",
    "The last line of the error output attempts to tell you what went wrong.  The *syntax* of a language is its structure, and this `SyntaxError` tells you that you have created an illegal structure.  \"`EOF`\" means \"end of file,\" so the message is saying Python expected you to write something more (in this case, a right parenthesis) before finishing the cell.\n",
    "\n",
    "There's a lot of terminology in programming languages, but you don't need to know it all in order to program effectively. If you see a cryptic message like this, you can often get by without deciphering it.  (Of course, if you're frustrated, ask a neighbor or a TA for help.)\n",
    "\n",
    "Try to fix the code above so that you can run the cell and see the intended message instead of an error."
   ]
  },
  {
   "cell_type": "markdown",
   "metadata": {},
   "source": [
    "## 1.5. The Kernel\n",
    "The kernel is a program that executes the code inside your notebook and outputs the results. In the top right of your window, you can see a circle that indicates the status of your kernel. If the circle is empty (⚪), the kernel is idle and ready to execute code. If the circle is filled in (⚫), the kernel is busy running some code. \n",
    "\n",
    "You may run into problems where your kernel is stuck for an excessive amount of time, your notebook is very slow and unresponsive, or your kernel loses its connection. If this happens, try the following steps:\n",
    "1. At the top of your screen, click **Kernel**, then **Interrupt**.\n",
    "2. If that doesn't help, click **Kernel**, then **Restart**. If you do this, you will have to run your code cells from the start of your notebook up until where you paused your work.\n",
    "3. If that doesn't help, restart your server. First, save your work by clicking **File** at the top left of your screen, then **Save and Checkpoint**. Next, click **Control Panel** at the top right. Choose **Stop My Server** to shut it down, then **My Server** to start it back up. Then, navigate back to the notebook you were working on."
   ]
  },
  {
   "cell_type": "markdown",
   "metadata": {},
   "source": [
    "# 2. The planets of our Solar System\n",
    "\n",
    "Mercury is the planet closest to our Sun, and Neptune is the planet farthest from our Sun.  Often astronomers will use AU's (astronomical units) as the unit of length for the orbital radius of planets or exoplanets.  One AU is roughly the distance between the Earth and Sun (about 93 million miles); note that the Earth's orbit is not circular so the actual distance between the Earth and Sun changes throughout the year.\n",
    "\n",
    "Let's work on comparing how far apart the planets are from each other.  Mercury is about 0.4 AU from the Sun, Venus is about 0.7 AU, Mars is about 1.5 AU, Jupyter is about 5.2 AU, Saturn is about 9.5 AU, Uranus is about 19.2 AU, and Neptune is about 30.1.  Can you figure out how many AUs the Earth is from the Sun from the previous paragraph? \n",
    "\n",
    "Python uses assignment statements to assign a value to a variable name.\n",
    "An assignment statement has a name on the left side of an = sign and an expression to be evaluated on the right.\n",
    "\n",
    "For example, we can assign the value of 0.4 to mercury_rad using the following:"
   ]
  },
  {
   "cell_type": "code",
   "execution_count": 1,
   "metadata": {},
   "outputs": [
    {
     "data": {
      "text/plain": [
       "0.4"
      ]
     },
     "execution_count": 1,
     "metadata": {},
     "output_type": "execute_result"
    }
   ],
   "source": [
    "mercury_rad = 0.4\n",
    "mercury_rad"
   ]
  },
  {
   "cell_type": "markdown",
   "metadata": {},
   "source": [
    "Notice we also listed `mercury_rad' below the assignment so Python would print it's value.  If we did not include that second line, then the value would not have printed.\n",
    "Now whenever we use `mercury_rad' Python uses the value assigned to it.  "
   ]
  },
  {
   "cell_type": "markdown",
   "metadata": {},
   "source": [
    "**Question 2.1**. Assign the remaining names venus_rad, ..., neptune_rad to the distances (in AU) between the planet and the Sun for the eight planets of the Solar System.  "
   ]
  },
  {
   "cell_type": "code",
   "execution_count": 4,
   "metadata": {},
   "outputs": [],
   "source": [
    "venus_rad = 0.7\n",
    "mars_rad = 1.5\n",
    "earth_rad = 1\n",
    "jupyter_rad = 5.2\n",
    "saturn_rad = 9.5\n",
    "uranus_rad = 19.2\n",
    "neptune_rad = 30.1"
   ]
  },
  {
   "cell_type": "code",
   "execution_count": null,
   "metadata": {},
   "outputs": [],
   "source": [
    "venus_rad = ...\n",
    "mars_rad = ...\n",
    "earth_rad = ...\n",
    "jupyter_rad = ...\n",
    "saturn_rad = ...\n",
    "uranus_rad = ...\n",
    "neptune_rad = ..."
   ]
  },
  {
   "cell_type": "markdown",
   "metadata": {},
   "source": [
    "Now that we have the orbital distance for the planets as named variables, we can use the variable names to compute quantities like the distances between to planets, or convert the orbital radius in different units.  For example, we can find the distance between Mars and the Sun in miles.  Note that 1 AU $\\approx$ $9.3\\times10^7$ miles."
   ]
  },
  {
   "cell_type": "code",
   "execution_count": 6,
   "metadata": {},
   "outputs": [
    {
     "data": {
      "text/plain": [
       "139500000.0"
      ]
     },
     "execution_count": 6,
     "metadata": {},
     "output_type": "execute_result"
    }
   ],
   "source": [
    "mars_rad*(9.3*10**7) "
   ]
  },
  {
   "cell_type": "markdown",
   "metadata": {},
   "source": [
    "Notice that `**` raises one number to the power of the other. So, `10**2` stands for $10^2$ and evaluates to 100.\n",
    "Many basic arithmetic operations are built in to Python.  The textbook section on [Expressions](http://www.inferentialthinking.com/chapters/03/1/expressions.html) describes all the arithmetic operators used in the course.  "
   ]
  },
  {
   "cell_type": "markdown",
   "metadata": {},
   "source": [
    "**Question 2.2.** Using the variable names neptune_rad and earth_rad, compute the distance between Earth and Neptune in units of miles.  You may want to use the `abs()' function to compute the distance so you don't get negative values.  (The `abs` function takes a single number as its argument and returns the absolute value of that number.  The absolute value of a number is its distance from 0 on the number line, so `abs(5)` is 5 and `abs(-5)` is also 5.)"
   ]
  },
  {
   "cell_type": "code",
   "execution_count": 10,
   "metadata": {},
   "outputs": [
    {
     "data": {
      "text/plain": [
       "Ellipsis"
      ]
     },
     "execution_count": 10,
     "metadata": {},
     "output_type": "execute_result"
    }
   ],
   "source": [
    "..."
   ]
  },
  {
   "cell_type": "markdown",
   "metadata": {},
   "source": [
    "`abs' is a built-in Python function.  The most common way to combine or manipulate values in Python is by calling functions. Python comes with many built-in functions that perform common operations.\n",
    "\n",
    "It turns out that function calls and arithmetic expressions can themselves contain expressions.  You may have seen an example in the last question if you subtracted two values within the `abs()'\n",
    "\n",
    "Nested expressions can turn into complicated-looking code. However, the way in which complicated expressions break down is very regular.\n",
    "\n",
    "Suppose we are interested in which pair of neighboring planets are furthest apart from each other.  We can compute the absolute value of the difference in orbital radius between each pair of neighboring planets, and then use the built-in 'max()' function returns the maximum argument passed to it.  For example, the following finds the maximum value among a collection of values considered:"
   ]
  },
  {
   "cell_type": "code",
   "execution_count": 13,
   "metadata": {},
   "outputs": [
    {
     "data": {
      "text/plain": [
       "30.1"
      ]
     },
     "execution_count": 13,
     "metadata": {},
     "output_type": "execute_result"
    }
   ],
   "source": [
    "max(venus_rad, neptune_rad, mars_rad)"
   ]
  },
  {
   "cell_type": "markdown",
   "metadata": {},
   "source": [
    "**Question 2.3** Next let's try to find the largest distance between two *neighboring* planets.  To do this, we can compute the distance between each pair of neighboring planets using the 'abs()' and 'max()' functions.  The initial code is below, now you have to add in the remaining distances and run the code."
   ]
  },
  {
   "cell_type": "code",
   "execution_count": 12,
   "metadata": {},
   "outputs": [
    {
     "data": {
      "text/plain": [
       "4.2"
      ]
     },
     "execution_count": 12,
     "metadata": {},
     "output_type": "execute_result"
    }
   ],
   "source": [
    "max(abs(mercury_rad - venus_rad), abs(venus_rad - mars_rad), abs(mars_rad - earth_rad), abs(earth_rad - jupyter_rad), ...)"
   ]
  },
  {
   "cell_type": "markdown",
   "metadata": {},
   "source": [
    "# 3. Solar System Data\n",
    "\n",
    "For this section, we are going to use a dataset from [NASA](https://nssdc.gsfc.nasa.gov/planetary/factsheet/) that contains some general information about the planets of our Solar System (and the moon and Pluto). (Details about the listed attributes can be found [here](https://nssdc.gsfc.nasa.gov/planetary/factsheet/planetfact_notes.html#escv).) \n",
    "Rather than having to manually add all the data into Python, we can simply import the data using some functions in Python.  The dataset is called 'solar_system_data.csv'"
   ]
  },
  {
   "cell_type": "code",
   "execution_count": 109,
   "metadata": {},
   "outputs": [],
   "source": [
    "from datascience import *\n",
    "import numpy as np\n",
    "%matplotlib inline\n",
    "import matplotlib.pyplot as plots\n",
    "plots.style.use('fivethirtyeight')\n",
    "\n",
    "planets = Table.read_table('solar_system_data.csv') #Load in the dataset"
   ]
  },
  {
   "cell_type": "markdown",
   "metadata": {},
   "source": [
    "The first five lines in the code can be ignored for now.  The final line of the code reads-in the dataset and assigns the dataset to the name `planets.' Notice also that there is note next to the final line of code that begins with the '#.'  Python ignores anything following the '#' and it is a great way to add documentation and notes to your code.  More on that later.\n",
    "\n",
    "We've loaded the data, now what is it?  How do we work with it?  The variable 'planet' is actually what we call a table.  Many of the datasets we use are organized in this way.  \n",
    "\n",
    "- Each column represents a different planet of the Solar System (and the moon and Pluto)\n",
    "- Each row contains different attributes that describe each planet/moon/pluto.  \n",
    "\n",
    "We can display the table using the code below.  Notice that for some of the units, it appears as '106km.'  This is actually $10^6$ km."
   ]
  },
  {
   "cell_type": "code",
   "execution_count": 110,
   "metadata": {},
   "outputs": [
    {
     "data": {
      "text/html": [
       "<table border=\"1\" class=\"dataframe\">\n",
       "    <thead>\n",
       "        <tr>\n",
       "            <th>Attribute</th> <th>Mercury</th> <th>Venus</th> <th>Earth</th> <th>Moon</th> <th>Mars</th> <th>Jupiter</th> <th>Saturn</th> <th>Uranus</th> <th>Neptune</th> <th>Pluto</th>\n",
       "        </tr>\n",
       "    </thead>\n",
       "    <tbody>\n",
       "        <tr>\n",
       "            <td>Mass (1024kg)                </td> <td>0.33   </td> <td>4.87   </td> <td>5.97 </td> <td>0.073</td> <td>0.642</td> <td>1898   </td> <td>568    </td> <td>86.8   </td> <td>102    </td> <td>0.0146 </td>\n",
       "        </tr>\n",
       "        <tr>\n",
       "            <td>Diameter (km)                </td> <td>4879   </td> <td>12104  </td> <td>12756</td> <td>3475 </td> <td>6792 </td> <td>142984 </td> <td>120536 </td> <td>51118  </td> <td>49528  </td> <td>2370   </td>\n",
       "        </tr>\n",
       "        <tr>\n",
       "            <td>Density (kg/m3)              </td> <td>5427   </td> <td>5243   </td> <td>5514 </td> <td>3340 </td> <td>3933 </td> <td>1326   </td> <td>687    </td> <td>1271   </td> <td>1638   </td> <td>2095   </td>\n",
       "        </tr>\n",
       "        <tr>\n",
       "            <td>Gravity (m/s2)               </td> <td>3.7    </td> <td>8.9    </td> <td>9.8  </td> <td>1.6  </td> <td>3.7  </td> <td>23.1   </td> <td>9      </td> <td>8.7    </td> <td>11     </td> <td>0.7    </td>\n",
       "        </tr>\n",
       "        <tr>\n",
       "            <td>Escape Velocity (km/s)       </td> <td>4.3    </td> <td>10.4   </td> <td>11.2 </td> <td>2.4  </td> <td>5    </td> <td>59.5   </td> <td>35.5   </td> <td>21.3   </td> <td>23.5   </td> <td>1.3    </td>\n",
       "        </tr>\n",
       "        <tr>\n",
       "            <td>Rotation Period (hours)      </td> <td>1407.6 </td> <td>-5832.5</td> <td>23.9 </td> <td>655.7</td> <td>24.6 </td> <td>9.9    </td> <td>10.7   </td> <td>-17.2  </td> <td>16.1   </td> <td>-153.3 </td>\n",
       "        </tr>\n",
       "        <tr>\n",
       "            <td>Length of Day (hours)        </td> <td>4222.6 </td> <td>2802   </td> <td>24   </td> <td>708.7</td> <td>24.7 </td> <td>9.9    </td> <td>10.7   </td> <td>17.2   </td> <td>16.1   </td> <td>153.3  </td>\n",
       "        </tr>\n",
       "        <tr>\n",
       "            <td>Distance from Sun (106 km)   </td> <td>57.9   </td> <td>108.2  </td> <td>149.6</td> <td>0.384</td> <td>227.9</td> <td>778.6  </td> <td>1433.5 </td> <td>2872.5 </td> <td>4495.1 </td> <td>5906.4 </td>\n",
       "        </tr>\n",
       "        <tr>\n",
       "            <td>Perihelion (106 km)          </td> <td>46     </td> <td>107.5  </td> <td>147.1</td> <td>0.363</td> <td>206.6</td> <td>740.5  </td> <td>1352.6 </td> <td>2741.3 </td> <td>4444.5 </td> <td>4436.8 </td>\n",
       "        </tr>\n",
       "        <tr>\n",
       "            <td>Aphelion (106 km)            </td> <td>69.8   </td> <td>108.9  </td> <td>152.1</td> <td>0.406</td> <td>249.2</td> <td>816.6  </td> <td>1514.5 </td> <td>3003.6 </td> <td>4545.7 </td> <td>7375.9 </td>\n",
       "        </tr>\n",
       "        <tr>\n",
       "            <td>Orbital Period (days)        </td> <td>88     </td> <td>224.7  </td> <td>365.2</td> <td>27.3 </td> <td>687  </td> <td>4331   </td> <td>10747  </td> <td>30589  </td> <td>59800  </td> <td>90560  </td>\n",
       "        </tr>\n",
       "        <tr>\n",
       "            <td>Orbital Velocity (km/s)      </td> <td>47.4   </td> <td>35     </td> <td>29.8 </td> <td>1    </td> <td>24.1 </td> <td>13.1   </td> <td>9.7    </td> <td>6.8    </td> <td>5.4    </td> <td>4.7    </td>\n",
       "        </tr>\n",
       "        <tr>\n",
       "            <td>Orbital Inclination (degrees)</td> <td>7      </td> <td>3.4    </td> <td>0    </td> <td>5.1  </td> <td>1.9  </td> <td>1.3    </td> <td>2.5    </td> <td>0.8    </td> <td>1.8    </td> <td>17.2   </td>\n",
       "        </tr>\n",
       "        <tr>\n",
       "            <td>Orbital Eccentricity         </td> <td>0.205  </td> <td>0.007  </td> <td>0.017</td> <td>0.055</td> <td>0.094</td> <td>0.049  </td> <td>0.057  </td> <td>0.046  </td> <td>0.011  </td> <td>0.244  </td>\n",
       "        </tr>\n",
       "        <tr>\n",
       "            <td>Obliquity to Orbit (degrees) </td> <td>0.034  </td> <td>177.4  </td> <td>23.4 </td> <td>6.7  </td> <td>25.2 </td> <td>3.1    </td> <td>26.7   </td> <td>97.8   </td> <td>28.3   </td> <td>122.5  </td>\n",
       "        </tr>\n",
       "        <tr>\n",
       "            <td>Mean Temperature (C)         </td> <td>167    </td> <td>464    </td> <td>15   </td> <td>-20  </td> <td>-65  </td> <td>-110   </td> <td>-140   </td> <td>-195   </td> <td>-200   </td> <td>-225   </td>\n",
       "        </tr>\n",
       "        <tr>\n",
       "            <td>Surface Pressure (bars)      </td> <td>0      </td> <td>92     </td> <td>1    </td> <td>0    </td> <td>0.01 </td> <td>Unknown</td> <td>Unknown</td> <td>Unknown</td> <td>Unknown</td> <td>1E-05  </td>\n",
       "        </tr>\n",
       "        <tr>\n",
       "            <td>Number of Moons              </td> <td>0      </td> <td>0      </td> <td>1    </td> <td>0    </td> <td>2    </td> <td>79     </td> <td>62     </td> <td>27     </td> <td>14     </td> <td>5      </td>\n",
       "        </tr>\n",
       "        <tr>\n",
       "            <td>Ring System?                 </td> <td>No     </td> <td>No     </td> <td>No   </td> <td>No   </td> <td>No   </td> <td>Yes    </td> <td>Yes    </td> <td>Yes    </td> <td>Yes    </td> <td>No     </td>\n",
       "        </tr>\n",
       "        <tr>\n",
       "            <td>Global Magnetic Field?       </td> <td>Yes    </td> <td>No     </td> <td>Yes  </td> <td>No   </td> <td>No   </td> <td>Yes    </td> <td>Yes    </td> <td>Yes    </td> <td>Yes    </td> <td>Unknown</td>\n",
       "        </tr>\n",
       "    </tbody>\n",
       "</table>"
      ],
      "text/plain": [
       "<IPython.core.display.HTML object>"
      ]
     },
     "metadata": {},
     "output_type": "display_data"
    }
   ],
   "source": [
    "planets.show()"
   ]
  },
  {
   "cell_type": "markdown",
   "metadata": {},
   "source": [
    "If we only want to see the first two rows, we can use the following:"
   ]
  },
  {
   "cell_type": "code",
   "execution_count": 61,
   "metadata": {},
   "outputs": [
    {
     "data": {
      "text/html": [
       "<table border=\"1\" class=\"dataframe\">\n",
       "    <thead>\n",
       "        <tr>\n",
       "            <th>Attribute</th> <th>Mercury</th> <th>Venus</th> <th>Earth</th> <th>Moon</th> <th>Mars</th> <th>Jupiter</th> <th>Saturn</th> <th>Uranus</th> <th>Neptune</th> <th>Pluto</th>\n",
       "        </tr>\n",
       "    </thead>\n",
       "    <tbody>\n",
       "        <tr>\n",
       "            <td>Mass (1024kg)</td> <td>0.33   </td> <td>4.87 </td> <td>5.97 </td> <td>0.073</td> <td>0.642</td> <td>1898   </td> <td>568   </td> <td>86.8  </td> <td>102    </td> <td>0.0146</td>\n",
       "        </tr>\n",
       "        <tr>\n",
       "            <td>Diameter (km)</td> <td>4879   </td> <td>12104</td> <td>12756</td> <td>3475 </td> <td>6792 </td> <td>142984 </td> <td>120536</td> <td>51118 </td> <td>49528  </td> <td>2370  </td>\n",
       "        </tr>\n",
       "    </tbody>\n",
       "</table>\n",
       "<p>... (18 rows omitted)</p>"
      ],
      "text/plain": [
       "<IPython.core.display.HTML object>"
      ]
     },
     "metadata": {},
     "output_type": "display_data"
    }
   ],
   "source": [
    "planets.show(2)"
   ]
  },
  {
   "cell_type": "markdown",
   "metadata": {},
   "source": [
    "We can see the number of columns using the following:"
   ]
  },
  {
   "cell_type": "code",
   "execution_count": 65,
   "metadata": {},
   "outputs": [
    {
     "data": {
      "text/plain": [
       "11"
      ]
     },
     "execution_count": 65,
     "metadata": {},
     "output_type": "execute_result"
    }
   ],
   "source": [
    "planets.num_columns"
   ]
  },
  {
   "cell_type": "markdown",
   "metadata": {},
   "source": [
    "And the number of row with this:"
   ]
  },
  {
   "cell_type": "code",
   "execution_count": 66,
   "metadata": {},
   "outputs": [
    {
     "data": {
      "text/plain": [
       "20"
      ]
     },
     "execution_count": 66,
     "metadata": {},
     "output_type": "execute_result"
    }
   ],
   "source": [
    "planets.num_rows"
   ]
  },
  {
   "cell_type": "markdown",
   "metadata": {},
   "source": [
    "We can also select different columns using the 'select' function.  Below we select columns 0, 1, and 5 and print them out.  Notice that the indexing starts at 0, not 1!"
   ]
  },
  {
   "cell_type": "code",
   "execution_count": 63,
   "metadata": {},
   "outputs": [
    {
     "data": {
      "text/html": [
       "<table border=\"1\" class=\"dataframe\">\n",
       "    <thead>\n",
       "        <tr>\n",
       "            <th>Attribute</th> <th>Mercury</th> <th>Mars</th>\n",
       "        </tr>\n",
       "    </thead>\n",
       "    <tbody>\n",
       "        <tr>\n",
       "            <td>Mass (1024kg)             </td> <td>0.33   </td> <td>0.642</td>\n",
       "        </tr>\n",
       "        <tr>\n",
       "            <td>Diameter (km)             </td> <td>4879   </td> <td>6792 </td>\n",
       "        </tr>\n",
       "        <tr>\n",
       "            <td>Density (kg/m3)           </td> <td>5427   </td> <td>3933 </td>\n",
       "        </tr>\n",
       "        <tr>\n",
       "            <td>Gravity (m/s2)            </td> <td>3.7    </td> <td>3.7  </td>\n",
       "        </tr>\n",
       "        <tr>\n",
       "            <td>Escape Velocity (km/s)    </td> <td>4.3    </td> <td>5    </td>\n",
       "        </tr>\n",
       "        <tr>\n",
       "            <td>Rotation Period (hours)   </td> <td>1407.6 </td> <td>24.6 </td>\n",
       "        </tr>\n",
       "        <tr>\n",
       "            <td>Length of Day (hours)     </td> <td>4222.6 </td> <td>24.7 </td>\n",
       "        </tr>\n",
       "        <tr>\n",
       "            <td>Distance from Sun (106 km)</td> <td>57.9   </td> <td>227.9</td>\n",
       "        </tr>\n",
       "        <tr>\n",
       "            <td>Perihelion (106 km)       </td> <td>46     </td> <td>206.6</td>\n",
       "        </tr>\n",
       "        <tr>\n",
       "            <td>Aphelion (106 km)         </td> <td>69.8   </td> <td>249.2</td>\n",
       "        </tr>\n",
       "    </tbody>\n",
       "</table>\n",
       "<p>... (10 rows omitted)</p>"
      ],
      "text/plain": [
       "Attribute                  | Mercury | Mars\n",
       "Mass (1024kg)              | 0.33    | 0.642\n",
       "Diameter (km)              | 4879    | 6792\n",
       "Density (kg/m3)            | 5427    | 3933\n",
       "Gravity (m/s2)             | 3.7     | 3.7\n",
       "Escape Velocity (km/s)     | 4.3     | 5\n",
       "Rotation Period (hours)    | 1407.6  | 24.6\n",
       "Length of Day (hours)      | 4222.6  | 24.7\n",
       "Distance from Sun (106 km) | 57.9    | 227.9\n",
       "Perihelion (106 km)        | 46      | 206.6\n",
       "Aphelion (106 km)          | 69.8    | 249.2\n",
       "... (10 rows omitted)"
      ]
     },
     "execution_count": 63,
     "metadata": {},
     "output_type": "execute_result"
    }
   ],
   "source": [
    "planets.select(0,1,5)"
   ]
  },
  {
   "cell_type": "markdown",
   "metadata": {},
   "source": [
    "Or we can select columns using the column labels:"
   ]
  },
  {
   "cell_type": "code",
   "execution_count": 64,
   "metadata": {},
   "outputs": [
    {
     "data": {
      "text/html": [
       "<table border=\"1\" class=\"dataframe\">\n",
       "    <thead>\n",
       "        <tr>\n",
       "            <th>Attribute</th> <th>Mercury</th> <th>Mars</th>\n",
       "        </tr>\n",
       "    </thead>\n",
       "    <tbody>\n",
       "        <tr>\n",
       "            <td>Mass (1024kg)             </td> <td>0.33   </td> <td>0.642</td>\n",
       "        </tr>\n",
       "        <tr>\n",
       "            <td>Diameter (km)             </td> <td>4879   </td> <td>6792 </td>\n",
       "        </tr>\n",
       "        <tr>\n",
       "            <td>Density (kg/m3)           </td> <td>5427   </td> <td>3933 </td>\n",
       "        </tr>\n",
       "        <tr>\n",
       "            <td>Gravity (m/s2)            </td> <td>3.7    </td> <td>3.7  </td>\n",
       "        </tr>\n",
       "        <tr>\n",
       "            <td>Escape Velocity (km/s)    </td> <td>4.3    </td> <td>5    </td>\n",
       "        </tr>\n",
       "        <tr>\n",
       "            <td>Rotation Period (hours)   </td> <td>1407.6 </td> <td>24.6 </td>\n",
       "        </tr>\n",
       "        <tr>\n",
       "            <td>Length of Day (hours)     </td> <td>4222.6 </td> <td>24.7 </td>\n",
       "        </tr>\n",
       "        <tr>\n",
       "            <td>Distance from Sun (106 km)</td> <td>57.9   </td> <td>227.9</td>\n",
       "        </tr>\n",
       "        <tr>\n",
       "            <td>Perihelion (106 km)       </td> <td>46     </td> <td>206.6</td>\n",
       "        </tr>\n",
       "        <tr>\n",
       "            <td>Aphelion (106 km)         </td> <td>69.8   </td> <td>249.2</td>\n",
       "        </tr>\n",
       "    </tbody>\n",
       "</table>\n",
       "<p>... (10 rows omitted)</p>"
      ],
      "text/plain": [
       "Attribute                  | Mercury | Mars\n",
       "Mass (1024kg)              | 0.33    | 0.642\n",
       "Diameter (km)              | 4879    | 6792\n",
       "Density (kg/m3)            | 5427    | 3933\n",
       "Gravity (m/s2)             | 3.7     | 3.7\n",
       "Escape Velocity (km/s)     | 4.3     | 5\n",
       "Rotation Period (hours)    | 1407.6  | 24.6\n",
       "Length of Day (hours)      | 4222.6  | 24.7\n",
       "Distance from Sun (106 km) | 57.9    | 227.9\n",
       "Perihelion (106 km)        | 46      | 206.6\n",
       "Aphelion (106 km)          | 69.8    | 249.2\n",
       "... (10 rows omitted)"
      ]
     },
     "execution_count": 64,
     "metadata": {},
     "output_type": "execute_result"
    }
   ],
   "source": [
    "planets.select('Attribute','Mercury','Mars')"
   ]
  },
  {
   "cell_type": "markdown",
   "metadata": {},
   "source": [
    "To select rows, we can use the following.  Note that `np.arrange(0,4)' selects rows 0,1,2,3 (but not 4)."
   ]
  },
  {
   "cell_type": "code",
   "execution_count": 99,
   "metadata": {},
   "outputs": [
    {
     "data": {
      "text/html": [
       "<table border=\"1\" class=\"dataframe\">\n",
       "    <thead>\n",
       "        <tr>\n",
       "            <th>Attribute</th> <th>Mercury</th> <th>Venus</th> <th>Earth</th> <th>Moon</th> <th>Mars</th> <th>Jupiter</th> <th>Saturn</th> <th>Uranus</th> <th>Neptune</th> <th>Pluto</th>\n",
       "        </tr>\n",
       "    </thead>\n",
       "    <tbody>\n",
       "        <tr>\n",
       "            <td>Mass (1024kg)  </td> <td>0.33   </td> <td>4.87 </td> <td>5.97 </td> <td>0.073</td> <td>0.642</td> <td>1898   </td> <td>568   </td> <td>86.8  </td> <td>102    </td> <td>0.0146</td>\n",
       "        </tr>\n",
       "        <tr>\n",
       "            <td>Diameter (km)  </td> <td>4879   </td> <td>12104</td> <td>12756</td> <td>3475 </td> <td>6792 </td> <td>142984 </td> <td>120536</td> <td>51118 </td> <td>49528  </td> <td>2370  </td>\n",
       "        </tr>\n",
       "        <tr>\n",
       "            <td>Density (kg/m3)</td> <td>5427   </td> <td>5243 </td> <td>5514 </td> <td>3340 </td> <td>3933 </td> <td>1326   </td> <td>687   </td> <td>1271  </td> <td>1638   </td> <td>2095  </td>\n",
       "        </tr>\n",
       "        <tr>\n",
       "            <td>Gravity (m/s2) </td> <td>3.7    </td> <td>8.9  </td> <td>9.8  </td> <td>1.6  </td> <td>3.7  </td> <td>23.1   </td> <td>9     </td> <td>8.7   </td> <td>11     </td> <td>0.7   </td>\n",
       "        </tr>\n",
       "    </tbody>\n",
       "</table>"
      ],
      "text/plain": [
       "Attribute       | Mercury | Venus | Earth | Moon  | Mars  | Jupiter | Saturn | Uranus | Neptune | Pluto\n",
       "Mass (1024kg)   | 0.33    | 4.87  | 5.97  | 0.073 | 0.642 | 1898    | 568    | 86.8   | 102     | 0.0146\n",
       "Diameter (km)   | 4879    | 12104 | 12756 | 3475  | 6792  | 142984  | 120536 | 51118  | 49528   | 2370\n",
       "Density (kg/m3) | 5427    | 5243  | 5514  | 3340  | 3933  | 1326    | 687    | 1271   | 1638    | 2095\n",
       "Gravity (m/s2)  | 3.7     | 8.9   | 9.8   | 1.6   | 3.7   | 23.1    | 9      | 8.7    | 11      | 0.7"
      ]
     },
     "execution_count": 99,
     "metadata": {},
     "output_type": "execute_result"
    }
   ],
   "source": [
    "planets.take(np.arange(0, 4))"
   ]
  },
  {
   "cell_type": "markdown",
   "metadata": {},
   "source": [
    "We can also select a subset of rows and columns "
   ]
  },
  {
   "cell_type": "code",
   "execution_count": 101,
   "metadata": {},
   "outputs": [
    {
     "data": {
      "text/html": [
       "<table border=\"1\" class=\"dataframe\">\n",
       "    <thead>\n",
       "        <tr>\n",
       "            <th>Attribute</th> <th>Mercury</th> <th>Mars</th>\n",
       "        </tr>\n",
       "    </thead>\n",
       "    <tbody>\n",
       "        <tr>\n",
       "            <td>Mass (1024kg)          </td> <td>0.33   </td> <td>0.642</td>\n",
       "        </tr>\n",
       "        <tr>\n",
       "            <td>Density (kg/m3)        </td> <td>5427   </td> <td>3933 </td>\n",
       "        </tr>\n",
       "        <tr>\n",
       "            <td>Rotation Period (hours)</td> <td>1407.6 </td> <td>24.6 </td>\n",
       "        </tr>\n",
       "    </tbody>\n",
       "</table>"
      ],
      "text/plain": [
       "Attribute               | Mercury | Mars\n",
       "Mass (1024kg)           | 0.33    | 0.642\n",
       "Density (kg/m3)         | 5427    | 3933\n",
       "Rotation Period (hours) | 1407.6  | 24.6"
      ]
     },
     "execution_count": 101,
     "metadata": {},
     "output_type": "execute_result"
    }
   ],
   "source": [
    "planets.select('Attribute','Mercury','Mars').take((0,2,5))"
   ]
  },
  {
   "cell_type": "markdown",
   "metadata": {},
   "source": [
    "We are going to learn a lot more about Tables, especially in the main YData course.  But for today let's use the data in the table to try to carryout some calculations and learn something about planets.\n",
    "\n",
    "**Question 3.1.** Use the table functions discussed above to select the following attributes for the eight Solar System planets, and call this planets_real:  Mass, Rotation period, Distance from Sun.  (You may also want to keep the 'Attribute' column so you remember what the quantities are.)"
   ]
  },
  {
   "cell_type": "code",
   "execution_count": 136,
   "metadata": {},
   "outputs": [
    {
     "data": {
      "text/html": [
       "<table border=\"1\" class=\"dataframe\">\n",
       "    <thead>\n",
       "        <tr>\n",
       "            <th>Mercury</th> <th>Venus</th> <th>Earth</th> <th>Mars</th> <th>Jupiter</th> <th>Saturn</th> <th>Uranus</th> <th>Neptune</th>\n",
       "        </tr>\n",
       "    </thead>\n",
       "    <tbody>\n",
       "        <tr>\n",
       "            <td>0.33   </td> <td>4.87   </td> <td>5.97 </td> <td>0.642</td> <td>1898   </td> <td>568   </td> <td>86.8  </td> <td>102    </td>\n",
       "        </tr>\n",
       "        <tr>\n",
       "            <td>1407.6 </td> <td>-5832.5</td> <td>23.9 </td> <td>24.6 </td> <td>9.9    </td> <td>10.7  </td> <td>-17.2 </td> <td>16.1   </td>\n",
       "        </tr>\n",
       "        <tr>\n",
       "            <td>57.9   </td> <td>108.2  </td> <td>149.6</td> <td>227.9</td> <td>778.6  </td> <td>1433.5</td> <td>2872.5</td> <td>4495.1 </td>\n",
       "        </tr>\n",
       "    </tbody>\n",
       "</table>"
      ],
      "text/plain": [
       "<IPython.core.display.HTML object>"
      ]
     },
     "metadata": {},
     "output_type": "display_data"
    }
   ],
   "source": [
    "planets_real = planets.select('Mercury', 'Venus', 'Earth', 'Mars', 'Jupiter', 'Saturn', 'Uranus', 'Neptune').take((0,5,7))\n",
    "planets_real.show()"
   ]
  },
  {
   "cell_type": "markdown",
   "metadata": {},
   "source": [
    "**Question 3.2.** Which planet has the highest mass?  Try using the 'max()' function applied to the appropriate row of the table 'planets_real.'"
   ]
  },
  {
   "cell_type": "code",
   "execution_count": 134,
   "metadata": {},
   "outputs": [
    {
     "data": {
      "text/html": [
       "<table border=\"1\" class=\"dataframe\">\n",
       "    <thead>\n",
       "        <tr>\n",
       "            <th>Mercury</th> <th>Venus</th> <th>Earth</th> <th>Mars</th> <th>Jupiter</th> <th>Saturn</th> <th>Uranus</th> <th>Neptune</th>\n",
       "        </tr>\n",
       "    </thead>\n",
       "    <tbody>\n",
       "        <tr>\n",
       "            <td>0.33   </td> <td>4.87 </td> <td>5.97 </td> <td>0.642</td> <td>1898   </td> <td>568   </td> <td>86.8  </td> <td>102    </td>\n",
       "        </tr>\n",
       "    </tbody>\n",
       "</table>"
      ],
      "text/plain": [
       "Mercury | Venus | Earth | Mars  | Jupiter | Saturn | Uranus | Neptune\n",
       "0.33    | 4.87  | 5.97  | 0.642 | 1898    | 568    | 86.8   | 102"
      ]
     },
     "execution_count": 134,
     "metadata": {},
     "output_type": "execute_result"
    }
   ],
   "source": [
    "planets_real.select(1,2,3,4,5,6,7,8).take(0)"
   ]
  },
  {
   "cell_type": "code",
   "execution_count": 142,
   "metadata": {},
   "outputs": [
    {
     "data": {
      "text/plain": [
       "datascience.tables.Table"
      ]
     },
     "execution_count": 142,
     "metadata": {},
     "output_type": "execute_result"
    }
   ],
   "source": []
  },
  {
   "cell_type": "code",
   "execution_count": 141,
   "metadata": {},
   "outputs": [
    {
     "data": {
      "text/html": [
       "<table border=\"1\" class=\"dataframe\">\n",
       "    <thead>\n",
       "        <tr>\n",
       "            <th>Attribute</th> <th>Mercury</th> <th>Venus</th> <th>Earth</th> <th>Moon</th> <th>Mars</th> <th>Jupiter</th> <th>Saturn</th> <th>Uranus</th> <th>Neptune</th> <th>Pluto</th>\n",
       "        </tr>\n",
       "    </thead>\n",
       "    <tbody>\n",
       "        <tr>\n",
       "            <td>['Mass (1024kg)' 'Diameter (km)' 'Density (kg/m3)' 'Grav ...</td> <td>['0.33' '4879' '5427' '3.7' '4.3' '1407.6' '4222.6' '57. ...</td> <td>['4.87' '12104' '5243' '8.9' '10.4' '-5832.5' '2802' '10 ...</td> <td>['5.97' '12756' '5514' '9.8' '11.2' '23.9' '24' '149.6'  ...</td> <td>['0.073' '3475' '3340' '1.6' '2.4' '655.7' '708.7' '0.38 ...</td> <td>['0.642' '6792' '3933' '3.7' '5' '24.6' '24.7' '227.9' ' ...</td> <td>['1898' '142984' '1326' '23.1' '59.5' '9.9' '9.9' '778.6 ...</td> <td>['568' '120536' '687' '9' '35.5' '10.7' '10.7' '1433.5'  ...</td> <td>['86.8' '51118' '1271' '8.7' '21.3' '-17.2' '17.2' '2872 ...</td> <td>['102' '49528' '1638' '11' '23.5' '16.1' '16.1' '4495.1' ...</td> <td>['0.0146' '2370' '2095' '0.7' '1.3' '-153.3' '153.3' '59 ...</td>\n",
       "        </tr>\n",
       "    </tbody>\n",
       "</table>"
      ],
      "text/plain": [
       "Attribute                                                    | Mercury                                                      | Venus                                                        | Earth                                                        | Moon                                                         | Mars                                                         | Jupiter                                                      | Saturn                                                       | Uranus                                                       | Neptune                                                      | Pluto\n",
       "['Mass (1024kg)' 'Diameter (km)' 'Density (kg/m3)' 'Grav ... | ['0.33' '4879' '5427' '3.7' '4.3' '1407.6' '4222.6' '57. ... | ['4.87' '12104' '5243' '8.9' '10.4' '-5832.5' '2802' '10 ... | ['5.97' '12756' '5514' '9.8' '11.2' '23.9' '24' '149.6'  ... | ['0.073' '3475' '3340' '1.6' '2.4' '655.7' '708.7' '0.38 ... | ['0.642' '6792' '3933' '3.7' '5' '24.6' '24.7' '227.9' ' ... | ['1898' '142984' '1326' '23.1' '59.5' '9.9' '9.9' '778.6 ... | ['568' '120536' '687' '9' '35.5' '10.7' '10.7' '1433.5'  ... | ['86.8' '51118' '1271' '8.7' '21.3' '-17.2' '17.2' '2872 ... | ['102' '49528' '1638' '11' '23.5' '16.1' '16.1' '4495.1' ... | ['0.0146' '2370' '2095' '0.7' '1.3' '-153.3' '153.3' '59 ..."
      ]
     },
     "execution_count": 141,
     "metadata": {},
     "output_type": "execute_result"
    }
   ],
   "source": [
    "planets.T"
   ]
  },
  {
   "cell_type": "markdown",
   "metadata": {},
   "source": [
    "The orbital velocity of Mercury is 47.4 km/s (run code below for confirmation in table)."
   ]
  },
  {
   "cell_type": "code",
   "execution_count": 148,
   "metadata": {},
   "outputs": [
    {
     "data": {
      "text/html": [
       "<table border=\"1\" class=\"dataframe\">\n",
       "    <thead>\n",
       "        <tr>\n",
       "            <th>Attribute</th> <th>Mercury</th>\n",
       "        </tr>\n",
       "    </thead>\n",
       "    <tbody>\n",
       "        <tr>\n",
       "            <td>Orbital Velocity (km/s)</td> <td>47.4   </td>\n",
       "        </tr>\n",
       "    </tbody>\n",
       "</table>"
      ],
      "text/plain": [
       "Attribute               | Mercury\n",
       "Orbital Velocity (km/s) | 47.4"
      ]
     },
     "execution_count": 148,
     "metadata": {},
     "output_type": "execute_result"
    }
   ],
   "source": [
    "planets.select('Attribute','Mercury').take(11)"
   ]
  },
  {
   "cell_type": "markdown",
   "metadata": {},
   "source": [
    "**Question 3.3.**  Let's try to compute Mercury's orbital velocity using other quantities from the data.  The orbital velocity is the velocity at which Mercury travels around the Sun.  In order to compute this, we need to know the distance covered by Mercury (the diameter of the orbit) and how long it takes Mercury to travel around the Sun (the period of the orbit).\n",
    "\n",
    "The diameter of orbit, mercury_diameter, is $2\\pi R$ where $R$ is Mercury's average distance to Sun.  Notice that the orbital velocity is in km/s so we will want to make sure mercury_o_diameter has 'km' for its units.  In Python, 'np.pi' can be used for the quanitity $\\pi$ -- the 'np' means that we are using the numpy module for this constant.  Try running 'np.py' below to verify that we get the constant we expect, 3.1415..."
   ]
  },
  {
   "cell_type": "code",
   "execution_count": 151,
   "metadata": {},
   "outputs": [
    {
     "data": {
      "text/plain": [
       "3.141592653589793"
      ]
     },
     "execution_count": 151,
     "metadata": {},
     "output_type": "execute_result"
    }
   ],
   "source": [
    "np.pi"
   ]
  },
  {
   "cell_type": "markdown",
   "metadata": {},
   "source": [
    "Now let's compute mercury_o_diameter.  Notice that Mercury's average distance to the Sun is in units of $10^6$km:"
   ]
  },
  {
   "cell_type": "code",
   "execution_count": 153,
   "metadata": {},
   "outputs": [
    {
     "data": {
      "text/html": [
       "<table border=\"1\" class=\"dataframe\">\n",
       "    <thead>\n",
       "        <tr>\n",
       "            <th>Attribute</th> <th>Mercury</th>\n",
       "        </tr>\n",
       "    </thead>\n",
       "    <tbody>\n",
       "        <tr>\n",
       "            <td>Distance from Sun (106 km)</td> <td>57.9   </td>\n",
       "        </tr>\n",
       "    </tbody>\n",
       "</table>"
      ],
      "text/plain": [
       "Attribute                  | Mercury\n",
       "Distance from Sun (106 km) | 57.9"
      ]
     },
     "execution_count": 153,
     "metadata": {},
     "output_type": "execute_result"
    }
   ],
   "source": [
    "planets.select('Attribute','Mercury').take(7)"
   ]
  },
  {
   "cell_type": "markdown",
   "metadata": {},
   "source": [
    "In the cell below, select the appropriate value from the planet table and convert it to the appropriate units."
   ]
  },
  {
   "cell_type": "code",
   "execution_count": 155,
   "metadata": {},
   "outputs": [
    {
     "ename": "TypeError",
     "evalue": "can't multiply sequence by non-int of type 'float'",
     "output_type": "error",
     "traceback": [
      "\u001b[0;31m---------------------------------------------------------------------------\u001b[0m",
      "\u001b[0;31mTypeError\u001b[0m                                 Traceback (most recent call last)",
      "\u001b[0;32m<ipython-input-155-6a6350a1985b>\u001b[0m in \u001b[0;36m<module>\u001b[0;34m\u001b[0m\n\u001b[0;32m----> 1\u001b[0;31m \u001b[0mmercury_diameter\u001b[0m \u001b[0;34m=\u001b[0m \u001b[0;36m2\u001b[0m\u001b[0;34m*\u001b[0m\u001b[0mnp\u001b[0m\u001b[0;34m.\u001b[0m\u001b[0mpi\u001b[0m\u001b[0;34m*\u001b[0m\u001b[0mplanets\u001b[0m\u001b[0;34m[\u001b[0m\u001b[0;34m'Mercury'\u001b[0m\u001b[0;34m]\u001b[0m\u001b[0;34m[\u001b[0m\u001b[0;36m7\u001b[0m\u001b[0;34m]\u001b[0m\u001b[0;34m\u001b[0m\u001b[0m\n\u001b[0m",
      "\u001b[0;31mTypeError\u001b[0m: can't multiply sequence by non-int of type 'float'"
     ]
    }
   ],
   "source": [
    "mercury_o_diameter = 2*np.pi*planets['Mercury'][7]\n"
   ]
  },
  {
   "cell_type": "markdown",
   "metadata": {},
   "source": [
    "Now calculate the Mercury's orbital period.  First let's look at it's value by running the code below. "
   ]
  },
  {
   "cell_type": "code",
   "execution_count": 157,
   "metadata": {},
   "outputs": [
    {
     "data": {
      "text/html": [
       "<table border=\"1\" class=\"dataframe\">\n",
       "    <thead>\n",
       "        <tr>\n",
       "            <th>Attribute</th> <th>Mercury</th>\n",
       "        </tr>\n",
       "    </thead>\n",
       "    <tbody>\n",
       "        <tr>\n",
       "            <td>Orbital Period (days)</td> <td>88     </td>\n",
       "        </tr>\n",
       "    </tbody>\n",
       "</table>"
      ],
      "text/plain": [
       "Attribute             | Mercury\n",
       "Orbital Period (days) | 88"
      ]
     },
     "execution_count": 157,
     "metadata": {},
     "output_type": "execute_result"
    }
   ],
   "source": [
    "planets.select('Attribute','Mercury').take(10)"
   ]
  },
  {
   "cell_type": "markdown",
   "metadata": {},
   "source": [
    "Notice that the orbital period is in units of 'days' so you will want to convert it to 'seconds.'  Define mercury_o_period in units of days below."
   ]
  },
  {
   "cell_type": "code",
   "execution_count": null,
   "metadata": {},
   "outputs": [],
   "source": [
    "mercury_o_period = planets.select('Mercury').take(10)*24*60*60"
   ]
  },
  {
   "cell_type": "markdown",
   "metadata": {},
   "source": [
    "Now we are ready to put it all together and compute Mercury's orbital velocity, mercury_o_velocity. Add your variables mercury_0_diameter and mercury_o_period"
   ]
  },
  {
   "cell_type": "code",
   "execution_count": null,
   "metadata": {},
   "outputs": [],
   "source": [
    "mercury_o_velocity = ...\n",
    "mercury_o_velocity"
   ]
  },
  {
   "cell_type": "markdown",
   "metadata": {},
   "source": [
    "How does mercury_o_velocity compare to the orbital value listed in the table?"
   ]
  },
  {
   "cell_type": "code",
   "execution_count": null,
   "metadata": {},
   "outputs": [],
   "source": [
    "print(mercury_o_velocity)\n",
    "planets.select('Attribute','Mercury').take(11)"
   ]
  },
  {
   "cell_type": "markdown",
   "metadata": {},
   "source": [
    "## 3.3. Application: A physics experiment\n",
    "\n",
    "On the Apollo 15 mission to the Moon, astronaut David Scott famously replicated Galileo's physics experiment in which he showed that gravity accelerates objects of different mass at the same rate. Because there is no air resistance for a falling object on the surface of the Moon, even two objects with very different masses and densities should fall at the same rate. David Scott compared a feather and a hammer.\n",
    "\n",
    "You can run the following cell to watch a video of the experiment."
   ]
  },
  {
   "cell_type": "code",
   "execution_count": null,
   "metadata": {},
   "outputs": [],
   "source": [
    "from IPython.display import YouTubeVideo\n",
    "# The original URL is:\n",
    "#   https://www.youtube.com/watch?v=U7db6ZeLR5s\n",
    "YouTubeVideo(\"U7db6ZeLR5s\")"
   ]
  },
  {
   "cell_type": "markdown",
   "metadata": {},
   "source": [
    "Here's the transcript of the video:\n",
    "\n",
    "**167:22:06 Scott**: Well, in my left hand, I have a feather; in my right hand, a hammer. And I guess one of the reasons we got here today was because of a gentleman named Galileo, a long time ago, who made a rather significant discovery about falling objects in gravity fields. And we thought where would be a better place to confirm his findings than on the Moon. And so we thought we'd try it here for you. The feather happens to be, appropriately, a falcon feather for our Falcon. And I'll drop the two of them here and, hopefully, they'll hit the ground at the same time. \n",
    "\n",
    "**167:22:43 Scott**: How about that!\n",
    "\n",
    "**167:22:45 Allen**: How about that! (Applause in Houston)\n",
    "\n",
    "**167:22:46 Scott**: Which proves that Mr. Galileo was correct in his findings."
   ]
  },
  {
   "cell_type": "markdown",
   "metadata": {},
   "source": [
    "**Newton's Law.** Using this footage, we can also attempt to confirm another famous bit of physics: Newton's law of universal gravitation. Newton's laws predict that any object dropped near the surface of the Moon should fall\n",
    "\n",
    "$$\\frac{1}{2} G \\frac{M}{R^2} t^2 \\text{ meters}$$\n",
    "\n",
    "after $t$ seconds, where $G$ is a universal constant, $M$ is the moon's mass in kilograms, and $R$ is the moon's radius in meters.  So if we know $G$, $M$, and $R$, then Newton's laws let us predict how far an object will fall over any amount of time.\n",
    "\n",
    "To verify the accuracy of this law, we will calculate the difference between the predicted distance the hammer drops and the actual distance.  (If they are different, it might be because Newton's laws are wrong, or because our measurements are imprecise, or because there are other factors affecting the hammer for which we haven't accounted.)\n",
    "\n",
    "Someone studied the video and estimated that the hammer was dropped 113 cm from the surface. Counting frames in the video, the hammer falls for 1.2 seconds (36 frames)."
   ]
  },
  {
   "cell_type": "markdown",
   "metadata": {},
   "source": [
    "**Question 3.3.1.** Complete the code in the next cell to fill in the *data* from the experiment."
   ]
  },
  {
   "cell_type": "code",
   "execution_count": null,
   "metadata": {},
   "outputs": [],
   "source": [
    "# t, the duration of the fall in the experiment, in seconds.\n",
    "# Fill this in.\n",
    "time = ...\n",
    "\n",
    "# The estimated distance the hammer actually fell, in meters.\n",
    "# Fill this in.\n",
    "estimated_distance_m = ..."
   ]
  },
  {
   "cell_type": "code",
   "execution_count": null,
   "metadata": {},
   "outputs": [],
   "source": [
    "time = 1.2\n",
    "estimated_distance_m = 1.13"
   ]
  },
  {
   "cell_type": "markdown",
   "metadata": {},
   "source": [
    "**Question 3.3.2.** Now, complete the code in the next cell to compute the difference between the predicted and estimated distances (in meters) that the hammer fell in this experiment.\n",
    "\n",
    "This just means translating the formula above ($\\frac{1}{2}G\\frac{M}{R^2}t^2$) into Python code.  You'll have to replace each variable in the math formula with the name we gave that number in Python code."
   ]
  },
  {
   "cell_type": "code",
   "execution_count": null,
   "metadata": {},
   "outputs": [],
   "source": [
    "# First, we've written down the values of the 3 universal\n",
    "# constants that show up in Newton's formula.\n",
    "\n",
    "# G, the universal constant measuring the strength of gravity.\n",
    "gravity_constant = 6.674 * 10**-11\n",
    "\n",
    "# M, the moon's mass, in kilograms.\n",
    "moon_mass_kg = 7.34767309 * 10**22\n",
    "\n",
    "# R, the radius of the moon, in meters.\n",
    "moon_radius_m = 1.737 * 10**6\n",
    "\n",
    "# The distance the hammer should have fallen over the\n",
    "# duration of the fall, in meters, according to Newton's\n",
    "# law of gravity.  The text above describes the formula\n",
    "# for this distance given by Newton's law.\n",
    "# **YOU FILL THIS PART IN.**\n",
    "predicted_distance_m = ...\n",
    "\n",
    "# Here we've computed the difference between the predicted\n",
    "# fall distance and the distance we actually measured.\n",
    "# If you've filled in the above code, this should just work.\n",
    "difference = predicted_distance_m - estimated_distance_m\n",
    "difference"
   ]
  },
  {
   "cell_type": "markdown",
   "metadata": {},
   "source": [
    "## 4.1. Application: Computing walking distances\n",
    "Chunhua is on the corner of 7th Avenue and 42nd Street in Midtown Manhattan, and she wants to know far she'd have to walk to get to Gramercy School on the corner of 10th Avenue and 34th Street.\n",
    "\n",
    "She can't cut across blocks diagonally, since there are buildings in the way.  She has to walk along the sidewalks.  Using the map below, she sees she'd have to walk 3 avenues (long blocks) and 8 streets (short blocks).  In terms of the given numbers, she computed 3 as the difference between 7 and 10, *in absolute value*, and 8 similarly.  \n",
    "\n",
    "Chunhua also knows that blocks in Manhattan are all about 80m by 274m (avenues are farther apart than streets).  So in total, she'd have to walk $(80 \\times |42 - 34| + 274 \\times |7 - 10|)$ meters to get to the park.\n",
    "\n",
    "<img src=\"map.jpg\"/>\n",
    "\n",
    "**Question 4.1.1.** Finish the line `num_avenues_away = ...` in the next cell so that the cell calculates the distance Chunhua must walk and gives it the name `manhattan_distance`.  Everything else has been filled in for you.  **Use the `abs` function.**"
   ]
  },
  {
   "cell_type": "code",
   "execution_count": null,
   "metadata": {},
   "outputs": [],
   "source": [
    "# Here's the number of streets away:\n",
    "num_streets_away = abs(42-34)\n",
    "\n",
    "# Compute the number of avenues away in a similar way:\n",
    "num_avenues_away = ...\n",
    "\n",
    "street_length_m = 80\n",
    "avenue_length_m = 274\n",
    "\n",
    "# Now we compute the total distance Chunhua must walk.\n",
    "manhattan_distance = street_length_m*num_streets_away + avenue_length_m*num_avenues_away\n",
    "\n",
    "# We've included this line so that you see the distance\n",
    "# you've computed when you run this cell.  You don't need\n",
    "# to change it, but you can if you want.\n",
    "manhattan_distance"
   ]
  }
 ],
 "metadata": {
  "anaconda-cloud": {},
  "kernelspec": {
   "display_name": "Python 3",
   "language": "python",
   "name": "python3"
  },
  "language_info": {
   "codemirror_mode": {
    "name": "ipython",
    "version": 3
   },
   "file_extension": ".py",
   "mimetype": "text/x-python",
   "name": "python",
   "nbconvert_exporter": "python",
   "pygments_lexer": "ipython3",
   "version": "3.7.0"
  }
 },
 "nbformat": 4,
 "nbformat_minor": 1
}
