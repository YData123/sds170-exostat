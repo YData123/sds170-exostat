{
 "cells": [
  {
   "cell_type": "markdown",
   "metadata": {},
   "source": [
    "# ExoStat Lab 09: Exam 2\n",
    "\n",
    "**Administrative details:**\n",
    "\n",
    "- This is the second midterm exam, and is due by the end of class today (5:20PM on Tuesday, April 2).\n",
    "\n",
    "- You can use your notes, previous Labs, or the internet, but you may not collaborate with anyone else.  If you have questions, please speak **quietly** with the instructor.\n",
    "\n",
    "**Submission:**\n",
    "\n",
    "Submit your completed exam both as a .pdf and .ipynb (Jupyter notebook) in Canvas.  \n",
    "\n",
    "To produce the .pdf, please do the following in order to preserve the cell structure of the notebook:  \n",
    "1.  Go to \"File\" at the top-left of your Jupyter Notebook\n",
    "2.  Under \"Download as\", select \"HTML (.html)\"\n",
    "3.  After the .html has downloaded, open it and then select \"File\" and \"Print\" (note you will not actually be printing)\n",
    "4.  From the print window, select the option to save as a .pdf\n",
    "\n",
    "To produce the .ipynb, please do the following:  \n",
    "1.  Go to \"File\" at the top-left of your Jupyter Notebook\n",
    "2.  Under \"Download as\", select \"Notebook (.ipynb)\""
   ]
  },
  {
   "cell_type": "code",
   "execution_count": null,
   "metadata": {},
   "outputs": [],
   "source": [
    "# These lines import the Numpy and Datascience modules.\n",
    "import numpy as np\n",
    "from datascience import *\n",
    "\n",
    "from sklearn.decomposition import PCA\n",
    "from sklearn import preprocessing\n",
    "\n",
    "# These lines do some fancy plotting magic.\n",
    "import matplotlib\n",
    "%matplotlib inline\n",
    "import matplotlib.pyplot as plt\n",
    "plt.style.use('fivethirtyeight')\n",
    "import warnings\n",
    "warnings.simplefilter('ignore', FutureWarning)"
   ]
  },
  {
   "cell_type": "markdown",
   "metadata": {},
   "source": [
    "# 1.  Principal Components analysis and Stellar Activity"
   ]
  },
  {
   "cell_type": "markdown",
   "metadata": {},
   "source": [
    "For this section you will be considering a dataset that has 25 spectra taken across 25 days so that each spectrum represents one day of observing a star with a rotation period of 25 days.  The spectra have some time of variability - it may be stellar activity or it may be a Doppler shift (you will be asked about this in a later question).\n",
    "\n",
    "Run the cells below to read in the data.  Note that `wavelength` is the set of wavelength values, and can be used for both the spot and planet data."
   ]
  },
  {
   "cell_type": "code",
   "execution_count": null,
   "metadata": {},
   "outputs": [],
   "source": [
    "#Read in the wavelengths\n",
    "wavelength = Table.read_table(\"wave.txt\", header = None, names = [\"Wave\"])"
   ]
  },
  {
   "cell_type": "code",
   "execution_count": null,
   "metadata": {},
   "outputs": [],
   "source": [
    "#Create a header for the spectra data\n",
    "spec_header = make_array()\n",
    "for i in np.arange(wavelength.num_rows):\n",
    "    spec_header = np.append(spec_header, str(i))"
   ]
  },
  {
   "cell_type": "code",
   "execution_count": null,
   "metadata": {},
   "outputs": [],
   "source": [
    "#Read in the spectra\n",
    "spectra = Table.read_table(\"spectra.txt\",sep = \"\\s+\", header = None, names = spec_header)"
   ]
  },
  {
   "cell_type": "markdown",
   "metadata": {},
   "source": [
    "**Question 1.1.** How many rows and columns does `spectra` have?"
   ]
  },
  {
   "cell_type": "code",
   "execution_count": null,
   "metadata": {},
   "outputs": [],
   "source": [
    "..."
   ]
  },
  {
   "cell_type": "markdown",
   "metadata": {},
   "source": [
    "**Question 1.2.** Make a plot with wavelength on the horizontal axis and the first row of `spectra` on the vertical axis. The horizontal axis label can be `Wavelength` and the vertical axis label can be `Intensity`."
   ]
  },
  {
   "cell_type": "code",
   "execution_count": null,
   "metadata": {},
   "outputs": [],
   "source": [
    "..."
   ]
  },
  {
   "cell_type": "markdown",
   "metadata": {},
   "source": [
    "In order to use the `PCA()` function, we need to convert our table to a dataframe, which is a different type of data object.  Run the cell below to do this."
   ]
  },
  {
   "cell_type": "code",
   "execution_count": null,
   "metadata": {},
   "outputs": [],
   "source": [
    "# Run this cell\n",
    "spectra_df = Table.to_df(spectra)"
   ]
  },
  {
   "cell_type": "markdown",
   "metadata": {},
   "source": [
    "**Question 1.3.** Run a PCA on `spectra_df` and print the principal components.  Set `n_components = 6`."
   ]
  },
  {
   "cell_type": "code",
   "execution_count": null,
   "metadata": {},
   "outputs": [],
   "source": [
    "..."
   ]
  },
  {
   "cell_type": "markdown",
   "metadata": {},
   "source": [
    "**Question 1.4.**  Create a plot that displays the percentage of variability accounted for by each of the 6 principal components for `spectra_df`.  What do you notice about the amount of variability the first PC accounts for?"
   ]
  },
  {
   "cell_type": "code",
   "execution_count": null,
   "metadata": {},
   "outputs": [],
   "source": [
    "..."
   ]
  },
  {
   "cell_type": "markdown",
   "metadata": {},
   "source": [
    "[Add response here]"
   ]
  },
  {
   "cell_type": "markdown",
   "metadata": {},
   "source": [
    "**Question 1.5.**  Create a scatterplot with the first three sets of the PC scores for `spectra_df`.  Be sure to label your axes.  The horizontal axis should have values 1 through 25 representing the 25 time points of the observations (call it `Time (days)`).  The vertical axis are the scores (call it `PC Scores`).  Be sure to label your axes."
   ]
  },
  {
   "cell_type": "code",
   "execution_count": null,
   "metadata": {},
   "outputs": [],
   "source": [
    "..."
   ]
  },
  {
   "cell_type": "markdown",
   "metadata": {},
   "source": [
    "**Question 1.6.**  What do you notice about the plot of the PCA scores?   Thoughts on whether the main source of variability is due to stellar activity or a Doppler shift?  *Hint:  What does the pattern of the PC1 scores look like?*"
   ]
  },
  {
   "cell_type": "markdown",
   "metadata": {},
   "source": [
    "[Add response here]"
   ]
  },
  {
   "cell_type": "markdown",
   "metadata": {},
   "source": [
    "**Question 1.7.** With this question, we are going to focus on PC1 for the spectra.  For this question, plot the first spectrum of `spectra`, but color the spectrum according to PC1 value for each wavelength.  I suggest you consider using `plt.scatter` so you can easily assign a different color for each point.  \n",
    "To set up the color assignment, write a function, `assign_color`, that takes a value and returns `blue` if the value is less than or equal to -0.005, `gray` if the value is between -0.005 and 0.005, and `red` if the value is greater than 0.005.\n",
    "\n",
    "Apply this function to the PC1 values to get the colors.  Then use the array of colors for your scatter plot of the spectra."
   ]
  },
  {
   "cell_type": "code",
   "execution_count": null,
   "metadata": {},
   "outputs": [],
   "source": [
    "# Define assign_color function\n",
    "..."
   ]
  },
  {
   "cell_type": "code",
   "execution_count": null,
   "metadata": {},
   "outputs": [],
   "source": [
    "# Plot \n",
    "..."
   ]
  },
  {
   "cell_type": "markdown",
   "metadata": {},
   "source": [
    "**Question 1.8.** What do you notice about the variability of the spectra?  Going back to a previous question, thoughts on whether the main source of variability is due to stellar activity or a Doppler shift?  "
   ]
  },
  {
   "cell_type": "markdown",
   "metadata": {},
   "source": [
    "[Add you response here]"
   ]
  },
  {
   "cell_type": "markdown",
   "metadata": {},
   "source": [
    "# 2. Exploring Exoplanet Populations"
   ]
  },
  {
   "cell_type": "markdown",
   "metadata": {},
   "source": [
    "In this section, we are going to be using the confirmed exoplanet data, `confirmed_planets.csv`, and was collected from the [NASA Exoplanet Archive](https://exoplanetarchive.ipac.caltech.edu).  You can run the cell below to read in the data.  Note that we have to skip a number of rows to get rid of some of the header information."
   ]
  },
  {
   "cell_type": "code",
   "execution_count": null,
   "metadata": {},
   "outputs": [],
   "source": [
    "exoplanets = Table.read_table(\"confirmed_planets.csv\", skiprows = 71)\n",
    "exoplanets"
   ]
  },
  {
   "cell_type": "markdown",
   "metadata": {},
   "source": [
    "**Question 2.1.**  The [orbital eccentricity](https://en.wikipedia.org/wiki/Orbital_eccentricity) of an exoplanet (`pl_orbeccen` in the `exoplanet` table) describes how much the shape of the orbit differs from a circle.  An orbital eccentricity of 0 is a perfect circle.  We also know that the orbital eccentricity must be less than 1 in order for the planet to remain in orbit. \n",
    "\n",
    "Define a new table called `eccentricity` that only includes a column of the orbital eccentricity from the `exoplanet` table.  "
   ]
  },
  {
   "cell_type": "code",
   "execution_count": null,
   "metadata": {},
   "outputs": [],
   "source": [
    "eccentricity = ..."
   ]
  },
  {
   "cell_type": "markdown",
   "metadata": {},
   "source": [
    "**Question 2.2.**  There are a number of missing values represented by `nan`.  Remove the `nan` from your `eccentricity` table."
   ]
  },
  {
   "cell_type": "code",
   "execution_count": null,
   "metadata": {},
   "outputs": [],
   "source": [
    "..."
   ]
  },
  {
   "cell_type": "markdown",
   "metadata": {},
   "source": [
    "**For the remainder of this section, use the eccentricity values with the `nan`'s removed.**"
   ]
  },
  {
   "cell_type": "markdown",
   "metadata": {},
   "source": [
    "**Question 2.3.**  Make a histogram of the eccentricity values.  What is the (exact) range (min and max) of the eccentricities?"
   ]
  },
  {
   "cell_type": "code",
   "execution_count": null,
   "metadata": {},
   "outputs": [],
   "source": [
    "..."
   ]
  },
  {
   "cell_type": "markdown",
   "metadata": {},
   "source": [
    "**Question 2.4.**  Suppose we are interested in estimating the population mean eccentricity.  Let's suppose that our sample of eccentricities can be considered a random sample of eccentricities from the population of exoplanets in our Milky Way galaxy.  Calculate the mean eccentricity of sample and call it `sample_mean`."
   ]
  },
  {
   "cell_type": "code",
   "execution_count": null,
   "metadata": {},
   "outputs": [],
   "source": [
    "sample_mean = ...\n",
    "sample_mean"
   ]
  },
  {
   "cell_type": "markdown",
   "metadata": {},
   "source": [
    "**Question 2.5.**  Now we want to get a sense of the uncertainty in our estimate.  Define a function called `bootstrap_sample_mean` that produces a bootstrap sample of our eccentricities given a table input with a single column labeled `pl_orbeccen` and returns the mean of the sample."
   ]
  },
  {
   "cell_type": "code",
   "execution_count": null,
   "metadata": {},
   "outputs": [],
   "source": [
    "..."
   ]
  },
  {
   "cell_type": "markdown",
   "metadata": {},
   "source": [
    "**Question 2.6.**  Now bring it all together to draw 5,000 bootstrap estimates of the eccentricity mean by filling in the gaps in the code below."
   ]
  },
  {
   "cell_type": "code",
   "execution_count": null,
   "metadata": {},
   "outputs": [],
   "source": [
    "boot_means = ...\n",
    "replications = ...\n",
    "\n",
    "for i in np.arange(...):\n",
    "    new_mean = ...\n",
    "    boot_means = np.append(..., ...)   \n",
    "\n",
    "boot_means"
   ]
  },
  {
   "cell_type": "markdown",
   "metadata": {},
   "source": [
    "**Question 2.7.** Create a histogram of your `boot_means`."
   ]
  },
  {
   "cell_type": "code",
   "execution_count": null,
   "metadata": {},
   "outputs": [],
   "source": [
    "..."
   ]
  },
  {
   "cell_type": "markdown",
   "metadata": {},
   "source": [
    "**Question 2.8.** Give a 95% bootstrap confidence interval for the mean eccentricity."
   ]
  },
  {
   "cell_type": "code",
   "execution_count": null,
   "metadata": {},
   "outputs": [],
   "source": [
    "left = ...\n",
    "right = ...\n",
    "\n",
    "make_array(left, right)"
   ]
  },
  {
   "cell_type": "markdown",
   "metadata": {},
   "source": [
    "**Question 2.9.**  How would you explain how to interpret this approximate 95% confidence interval to someone unfamiliar with confidence intervals?  Be sure to explain what \"confidence\" means in your own words."
   ]
  },
  {
   "cell_type": "markdown",
   "metadata": {},
   "source": [
    "[Add your response here]"
   ]
  },
  {
   "cell_type": "markdown",
   "metadata": {},
   "source": [
    "**Submission:** Once you're finished, follow the instructions at the top of this notebook to save as a .pdf and .ipynb.  Then submit the two files through Canvas."
   ]
  }
 ],
 "metadata": {
  "anaconda-cloud": {},
  "kernelspec": {
   "display_name": "Python 3",
   "language": "python",
   "name": "python3"
  },
  "language_info": {
   "codemirror_mode": {
    "name": "ipython",
    "version": 3
   },
   "file_extension": ".py",
   "mimetype": "text/x-python",
   "name": "python",
   "nbconvert_exporter": "python",
   "pygments_lexer": "ipython3",
   "version": "3.7.1"
  }
 },
 "nbformat": 4,
 "nbformat_minor": 1
}
