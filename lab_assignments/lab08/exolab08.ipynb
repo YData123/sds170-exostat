{
 "cells": [
  {
   "cell_type": "markdown",
   "metadata": {},
   "source": [
    "# ExoStat Lab 08: Probability of another Earth"
   ]
  },
  {
   "cell_type": "markdown",
   "metadata": {},
   "source": [
    "**Administrative details:**\n",
    "\n",
    "- This Lab will be turned in for credit.\n",
    "\n",
    "- Some questions of this lab are the same as the Practice questions found on the main [YData website](http://ydata123.org/sp19/).  \n",
    "\n",
    "- Collaborating on the ExoStat Labs is encouraged. If you get stuck for a while on a question, feel free to ask a neighbor or come to the instructor's or TF's office hours for additional help. (Explaining things is beneficial, too -- the best way to solidify your knowledge of a subject is to explain it.) Please don't just share answers, though.\n",
    "\n",
    "This term we will be using Piazza for class discussion. Find our class page [here](https://piazza.com/yale/spring2019/sds170/home)\n",
    "\n",
    "You can read more about course policies on our [canvas site](https://canvas.yale.edu).\n",
    "\n",
    "**Deadline:**\n",
    "\n",
    "This assignment is due Monday, April 1st at 11:59 P.M. Late work will not be accepted as per the course policies (see the Syllabus and Course policies on [Canvas](https://canvas.yale.edu)).\n",
    "\n",
    "Directly sharing answers is not okay, but discussing problems with the course staff or with other students is encouraged. Refer to the policies page to learn more about how to learn cooperatively.\n",
    "\n",
    "#### Today's ExoStat Lab\n",
    "\n",
    "1. Probability of Another Earth\n",
    "\n",
    "**Submission:**\n",
    "\n",
    "Submit your assignment both as a .pdf and .ipynb (Jupyter notebook) in Canvas.  \n",
    "\n",
    "To produce the .pdf, please do the following in order to preserve the cell structure of the notebook:  \n",
    "1.  Go to \"File\" at the top-left of your Jupyter Notebook\n",
    "2.  Under \"Download as\", select \"HTML (.html)\"\n",
    "3.  After the .html has downloaded, open it and then select \"File\" and \"Print\" (note you will not actually be printing)\n",
    "4.  From the print window, select the option to save as a .pdf\n",
    "\n",
    "To produce the .ipynb, please do the following:  \n",
    "1.  Go to \"File\" at the top-left of your Jupyter Notebook\n",
    "2.  Under \"Download as\", select \"Notebook (.ipynb)\""
   ]
  },
  {
   "cell_type": "code",
   "execution_count": null,
   "metadata": {},
   "outputs": [],
   "source": [
    "# Run this cell to set up the notebook, but please don't change it.\n",
    "\n",
    "# These lines import the Numpy and Datascience modules.\n",
    "import numpy as np\n",
    "from datascience import *\n",
    "\n",
    "from sklearn.decomposition import PCA\n",
    "from sklearn import preprocessing\n",
    "\n",
    "# These lines do some fancy plotting magic.\n",
    "import matplotlib\n",
    "%matplotlib inline\n",
    "import matplotlib.pyplot as plt\n",
    "plt.style.use('fivethirtyeight')\n",
    "import warnings\n",
    "warnings.simplefilter('ignore', FutureWarning)"
   ]
  },
  {
   "cell_type": "markdown",
   "metadata": {},
   "source": [
    "We are going to go back to using the data on confirmed exoplanets from the NASA Exoplanet Archive (https://exoplanetarchive.ipac.caltech.edu). The file is called `confirmed_planets.csv`.  Run the cell below to load the dataset."
   ]
  },
  {
   "cell_type": "code",
   "execution_count": null,
   "metadata": {},
   "outputs": [],
   "source": [
    "exoplanets = Table.read_table(\"confirmed_planets.csv\", skiprows = 71) \n",
    "exoplanets"
   ]
  },
  {
   "cell_type": "markdown",
   "metadata": {},
   "source": [
    "Estimating the probability of another Earth is a very challenging question.  Even defining what we mean by \"another Earth\" is unclear.  Sometimes people mean an Earth-size planet (e.g. similar mass and radius as Earth) orbiting a Sun-like star.  Sometimes people mean more...such as orbiting in the so-called [habitable zone](https://en.wikipedia.org/wiki/Circumstellar_habitable_zone) where the planet can support liquid water on the surface.\n",
    "\n",
    "We are going to simplify the question a little bit...we are going to consider \"Earth-like\" to mean the planet has a mass and a radius similar to those of Earth."
   ]
  },
  {
   "cell_type": "markdown",
   "metadata": {},
   "source": [
    "**Question 1.1.**  To begin, create a table that includes a column for planet mass (in Earth masses) and a column for planet radius (in Earth radii).  Note that you will have to convert the units.  You will likely need to do some online search in order to figure out how to convert the units from Jupiter mass and Jupiter radius to Earth mass and Earth radius.  \n",
    "\n",
    "You will also notice that there are some missing values (i.e. `nan`'s).  We will address this in the next question."
   ]
  },
  {
   "cell_type": "code",
   "execution_count": null,
   "metadata": {},
   "outputs": [],
   "source": [
    "..."
   ]
  },
  {
   "cell_type": "markdown",
   "metadata": {},
   "source": [
    "**Question 1.2.**  A number of missing observations as `nan`.  Dealing with missing data is a very tricky statistical issue.  In this lab, we are just going to remove the rows that have mass or radius missing, but in practice you do not usually want to take this approach.  \n",
    "\n",
    "For this question, remove the `nan`'s.  You can develop your own approach for this, but one idea is to create a function that returns `False` if an `nan` is present in any of the input values, and `True` otherwise.  Then you can use `apply` to run the function on your Table. "
   ]
  },
  {
   "cell_type": "code",
   "execution_count": null,
   "metadata": {},
   "outputs": [],
   "source": [
    "..."
   ]
  },
  {
   "cell_type": "markdown",
   "metadata": {},
   "source": [
    "**Question 1.3.** Plot the remaining masses and radii on the `log` scale by using `plt.xscale('log')` and `plt.yscale('log')`.  Be sure to add axis labels."
   ]
  },
  {
   "cell_type": "code",
   "execution_count": null,
   "metadata": {},
   "outputs": [],
   "source": [
    "..."
   ]
  },
  {
   "cell_type": "markdown",
   "metadata": {},
   "source": [
    "**Question 1.4.**  We now need to figure out how many of the planets in our sample are \"Earth-like\" based on their mass and radius.  Let's create a function called `is_earthlike` that takes a mass and radius as the input and determines if it \"Earth-like\" (`True`) or not (\"False\").\n",
    "\n",
    "Let's define \"Earth-like\" to be exoplanets that have a mass between 0.5 and 1.5 Earth masses, and a radius that is between 0.5 and 1.5 Earth radii.  "
   ]
  },
  {
   "cell_type": "code",
   "execution_count": null,
   "metadata": {},
   "outputs": [],
   "source": [
    "def is_earthlike(mass_rad):\n",
    "    \"\"\"Let mass_rad be an array with two components: mass and radius\"\"\"\n",
    "    ...\n",
    "\n",
    "#Use the below to check your function...try different values for\n",
    "#mass and radius to be sure it works!\n",
    "is_earthlike(make_array(.75, 1.25))"
   ]
  },
  {
   "cell_type": "markdown",
   "metadata": {},
   "source": [
    "**Question 1.5.**  Apply your `is_earthlike` function to your table to get the indices for the rows with planets that are \"Earth-like\".  Then use `.where` on the output to see the values for the rows.  What proportion of exoplanets are \"Earth-like\" based on our definition?"
   ]
  },
  {
   "cell_type": "code",
   "execution_count": null,
   "metadata": {},
   "outputs": [],
   "source": [
    "..."
   ]
  },
  {
   "cell_type": "markdown",
   "metadata": {},
   "source": [
    "**Question 1.6.** The previous question gave us an estimate of the proportion of exoplanets in our sample that are \"Earth-like\" based on our definition.  Now we want to get a sense of the variability of this estimate through bootstrap sampling.  To begin, create a function that generates a sample (with replacement) of the rows from your mass-radius table (without missing values) of the same size as the input table.  Call this function `bootstrap_sample`."
   ]
  },
  {
   "cell_type": "code",
   "execution_count": null,
   "metadata": {},
   "outputs": [],
   "source": [
    "...\n",
    "\n",
    "#This is added as a check (you need to add your table name):\n",
    "bootstrap_sample(...) "
   ]
  },
  {
   "cell_type": "markdown",
   "metadata": {},
   "source": [
    "**Question 1.7.**  Next, create a function that generates a bootstrap sample, and returns the proportion of planets that are \"Earth-like\" based on their mass and radius as defined above.  Call this function, `get_proportion`."
   ]
  },
  {
   "cell_type": "code",
   "execution_count": null,
   "metadata": {},
   "outputs": [],
   "source": [
    "def get_proportion(table):\n",
    "    ...\n",
    "    \n",
    "\n",
    "#Use the code below for checking your function (add table name)\n",
    "get_proportion(...)"
   ]
  },
  {
   "cell_type": "markdown",
   "metadata": {},
   "source": [
    "**Question 1.8.** Now bring it all together to draw 5,000 bootstrap estimates of the proportion of exoplanets that are \"Earth-like\".  Create a function called `bootstrap_proportion` that takes a table with a column for mass and a column for radius as the first input, and the number of bootstrap replications as the second input.  Then run it to get your 5,000 bootstrap proportions."
   ]
  },
  {
   "cell_type": "code",
   "execution_count": null,
   "metadata": {},
   "outputs": [],
   "source": [
    "def bootstrap_proportion(original_table, replications):\n",
    "    \"\"\"Returns an array of bootstrapped sample proportions:\n",
    "    original_sample: table containing the original sample\n",
    "    replications: number of bootstrap samples\n",
    "    \"\"\"\n",
    "    proportions = make_array()\n",
    "    for i in np.arange(replications):\n",
    "        ...\n",
    "        \n",
    "    return proportions\n",
    "\n",
    "boot_sample = bootstrap_proportion(..., ...)"
   ]
  },
  {
   "cell_type": "markdown",
   "metadata": {},
   "source": [
    "**Question 1.9.** Create a histogram of your `boot_sample`."
   ]
  },
  {
   "cell_type": "code",
   "execution_count": null,
   "metadata": {},
   "outputs": [],
   "source": [
    "..."
   ]
  },
  {
   "cell_type": "markdown",
   "metadata": {},
   "source": [
    "**Question 1.10.** Give a 95% bootstrap confidence interval for the proportion of exoplanets that are \"Earth-like\" based on our definition."
   ]
  },
  {
   "cell_type": "code",
   "execution_count": null,
   "metadata": {},
   "outputs": [],
   "source": [
    "left = ...\n",
    "right = ...\n",
    "\n",
    "make_array(left, right)"
   ]
  },
  {
   "cell_type": "markdown",
   "metadata": {},
   "source": [
    "**Question 1.11.**  Did we actually get a reasonable estmate for the probability of another Earth?  What might make our estimate biased?"
   ]
  },
  {
   "cell_type": "markdown",
   "metadata": {},
   "source": [
    "[Add your response here]"
   ]
  },
  {
   "cell_type": "markdown",
   "metadata": {},
   "source": [
    "**Submission**: Once you're finished, follow the instructions at the top of this notebook to save as a .pdf and .ipynb. Then submit the two files through Canvas."
   ]
  },
  {
   "cell_type": "code",
   "execution_count": null,
   "metadata": {},
   "outputs": [],
   "source": []
  }
 ],
 "metadata": {
  "anaconda-cloud": {},
  "kernelspec": {
   "display_name": "Python 3",
   "language": "python",
   "name": "python3"
  },
  "language_info": {
   "codemirror_mode": {
    "name": "ipython",
    "version": 3
   },
   "file_extension": ".py",
   "mimetype": "text/x-python",
   "name": "python",
   "nbconvert_exporter": "python",
   "pygments_lexer": "ipython3",
   "version": "3.7.1"
  }
 },
 "nbformat": 4,
 "nbformat_minor": 1
}
