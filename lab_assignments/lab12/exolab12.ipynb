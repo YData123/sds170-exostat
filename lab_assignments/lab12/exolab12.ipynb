{
 "cells": [
  {
   "cell_type": "markdown",
   "metadata": {},
   "source": [
    "# ExoStat Lab 12 Mass-Radius Relation of Exoplanets"
   ]
  },
  {
   "cell_type": "markdown",
   "metadata": {},
   "source": [
    "**Administrative details:**\n",
    "\n",
    "- This lab will not be turned in for credit \n",
    "- Data are downloaded from the NASA Exoplanet Archive (https://exoplanetarchive.ipac.caltech.edu)\n",
    "- Collaborating on the ExoStat Labs is encouraged. If you get stuck for a while on a question, feel free to ask a neighbor or come to the instructor's or TF's office hours for additional help. (Explaining things is beneficial, too -- the best way to solidify your knowledge of a subject is to explain it.) Please don't just share answers, though.\n",
    "\n",
    "This term we will be using Piazza for class discussion. Find our class page [here](https://piazza.com/yale/spring2019/sds170/home)\n",
    "\n",
    "You can read more about course policies on our [canvas site](https://canvas.yale.edu).\n",
    "\n",
    "#### Today's ExoStat Lab\n",
    "\n",
    "#### Power-law Model\n",
    "\n",
    "<center>$M = CR^\\gamma \\Rightarrow \\log_{10} M = \\log_{10} C + \\gamma \\log_{10} R$</center>\n",
    "\n",
    "\n",
    "Step 1: Estimate the power-law model using linear regression\n",
    "\n",
    "Step 2: Classify the data into three clusters using KMeans\n",
    "\n",
    "Step 3: Fit three separate linear regression based on three clusters \n",
    "\n",
    "Step 4: Compare the results from Step 1 and Step 3\n",
    "\n",
    "\n",
    "Let's begin by running the cell below."
   ]
  },
  {
   "cell_type": "code",
   "execution_count": null,
   "metadata": {
    "scrolled": true
   },
   "outputs": [],
   "source": [
    "# Run this cell, but please don't change it.\n",
    "import numpy as np\n",
    "from datascience import *\n",
    "from sklearn.cluster import KMeans\n",
    "\n",
    "# These lines do some fancy plotting magic\n",
    "%matplotlib inline\n",
    "import matplotlib.pyplot as plots\n",
    "plots.style.use('fivethirtyeight')\n",
    "import warnings\n",
    "warnings.simplefilter('ignore', FutureWarning)\n",
    "from matplotlib import patches\n",
    "from ipywidgets import interact, interactive, fixed\n",
    "import ipywidgets as widgets"
   ]
  },
  {
   "cell_type": "markdown",
   "metadata": {},
   "source": [
    "## Step 0: Look at Data"
   ]
  },
  {
   "cell_type": "code",
   "execution_count": null,
   "metadata": {
    "scrolled": true
   },
   "outputs": [],
   "source": [
    "kepler_data = Table.read_table(\"MR-kepler.csv\")   # read data"
   ]
  },
  {
   "cell_type": "code",
   "execution_count": null,
   "metadata": {
    "scrolled": false
   },
   "outputs": [],
   "source": [
    "kepler_data.show(4)  # print data"
   ]
  },
  {
   "cell_type": "code",
   "execution_count": null,
   "metadata": {},
   "outputs": [],
   "source": [
    "kepler_data.scatter(5, 4)  # plot mass and radius\n",
    "plots.xlabel('Radius(R_Earth)')\n",
    "plots.ylabel('Mass(M_Earth)')"
   ]
  },
  {
   "cell_type": "markdown",
   "metadata": {},
   "source": [
    "**Question**: Do you think the power-law is a reasonable assumption for this dataset?"
   ]
  },
  {
   "cell_type": "markdown",
   "metadata": {},
   "source": [
    "[Add your response here]"
   ]
  },
  {
   "cell_type": "code",
   "execution_count": null,
   "metadata": {},
   "outputs": [],
   "source": [
    "# convert data into log scale\n",
    "log_kepler_data = kepler_data\n",
    "log_kepler_data['st_mass'][:] = np.log10(kepler_data['st_mass'][:])\n",
    "log_kepler_data['st_rad'][:] = np.log10(kepler_data['st_rad'][:])"
   ]
  },
  {
   "cell_type": "code",
   "execution_count": null,
   "metadata": {},
   "outputs": [],
   "source": [
    "log_kepler_data.scatter('st_rad', 'st_mass')\n",
    "plots.xlabel('log_10 Radius(R_Earth)')\n",
    "plots.ylabel('log_10 Mass(M_Earth)')"
   ]
  },
  {
   "cell_type": "markdown",
   "metadata": {},
   "source": [
    "**Question**: Do you think the relation between $\\log_{10} R$ and $\\log_{10}M$ is linear?"
   ]
  },
  {
   "cell_type": "markdown",
   "metadata": {},
   "source": [
    "[Add your response here]"
   ]
  },
  {
   "cell_type": "markdown",
   "metadata": {},
   "source": [
    "## Part 1: Fit a regression line"
   ]
  },
  {
   "cell_type": "code",
   "execution_count": null,
   "metadata": {
    "scrolled": true
   },
   "outputs": [],
   "source": [
    "# functions to fit the regression line\n",
    "def standard_units(arr):\n",
    "    return (arr - np.average(arr))/np.std(arr)\n",
    "\n",
    "def correlation(t, x, y):\n",
    "    x_standard = standard_units(t.column(x))\n",
    "    y_standard = standard_units(t.column(y))\n",
    "    return np.average(x_standard * y_standard)\n",
    "\n",
    "def slope(t, x, y):\n",
    "    r = correlation(t, x, y)\n",
    "    y_sd = np.std(t.column(y))\n",
    "    x_sd = np.std(t.column(x))\n",
    "    return r * y_sd / x_sd\n",
    "\n",
    "def intercept(t, x, y):\n",
    "    x_mean = np.mean(t.column(x))\n",
    "    y_mean = np.mean(t.column(y))\n",
    "    return y_mean - slope(t, x, y)*x_mean\n",
    "\n",
    "def fitted_values(t, x, y):\n",
    "    \"\"\"Return an array of the regressions estimates at all the x values\"\"\"\n",
    "    a = slope(t, x, y)\n",
    "    b = intercept(t, x, y)\n",
    "    return a*t.column(x) + b\n",
    "\n",
    "def predict_y(x_val):\n",
    "    \"\"\"\n",
    "    Predicts y-values using nearest neighbors\n",
    "    \"\"\"\n",
    "    nearby_points = data.where('x', are.between(x_val-0.25, x_val + 0.25))\n",
    "    return np.mean(nearby_points.column('y'))"
   ]
  },
  {
   "cell_type": "markdown",
   "metadata": {},
   "source": [
    "#### Obtain regression slope and intercept of the log-transformed data."
   ]
  },
  {
   "cell_type": "code",
   "execution_count": null,
   "metadata": {},
   "outputs": [],
   "source": [
    "regression_slope = ...\n",
    "regression_intercept = ...\n",
    "(regression_slope, regression_intercept)"
   ]
  },
  {
   "cell_type": "markdown",
   "metadata": {},
   "source": [
    "#### Obtain predicted value and errors"
   ]
  },
  {
   "cell_type": "code",
   "execution_count": null,
   "metadata": {},
   "outputs": [],
   "source": [
    "# obtained the predicted value\n",
    "predicted = ...\n",
    "actual = ...\n",
    "errors = ..."
   ]
  },
  {
   "cell_type": "markdown",
   "metadata": {},
   "source": [
    "#### Make a residual plot"
   ]
  },
  {
   "cell_type": "code",
   "execution_count": null,
   "metadata": {},
   "outputs": [],
   "source": [
    "..."
   ]
  },
  {
   "cell_type": "markdown",
   "metadata": {},
   "source": [
    "**Question:** Do you think the regression line is a good fit? Why or why not"
   ]
  },
  {
   "cell_type": "markdown",
   "metadata": {},
   "source": [
    "[Add your response here]"
   ]
  },
  {
   "cell_type": "markdown",
   "metadata": {},
   "source": [
    "#### Root Mean Square Error"
   ]
  },
  {
   "cell_type": "code",
   "execution_count": null,
   "metadata": {},
   "outputs": [],
   "source": [
    "# calculate the root mean square error\n",
    "rmse_1 = ...\n",
    "rmse_1"
   ]
  },
  {
   "cell_type": "markdown",
   "metadata": {},
   "source": [
    "## Part 2: Clustering using K-means (with 3 clusters)"
   ]
  },
  {
   "cell_type": "markdown",
   "metadata": {},
   "source": [
    "We discussed the k-means clustering method during lecture.  To implement it, we will use `KMeans` in the Python module `sklearn.cluster`. (This was loaded in the setup cell above.)  You can learn more about `KMeans` [here](https://scikit-learn.org/stable/modules/generated/sklearn.cluster.KMeans.html).\n",
    "\n",
    "It turns out to use `KMeans`, the data format needs to be an array.  The code below takes the columns of our `sim` table and combines them as a 2D array.  Use `sim_km` in `KMeans`."
   ]
  },
  {
   "cell_type": "code",
   "execution_count": null,
   "metadata": {
    "scrolled": false
   },
   "outputs": [],
   "source": [
    "data_array = np.column_stack(make_array(log_kepler_data.column(4), log_kepler_data.column(5)))\n",
    "print(type(data_array))\n",
    "print(data_array.shape)"
   ]
  },
  {
   "cell_type": "markdown",
   "metadata": {},
   "source": [
    "Run k-means clustering method choosing $k = 3$."
   ]
  },
  {
   "cell_type": "code",
   "execution_count": null,
   "metadata": {},
   "outputs": [],
   "source": [
    "nclust = ...\n",
    "kmeans = ...\n",
    "kmeans"
   ]
  },
  {
   "cell_type": "code",
   "execution_count": null,
   "metadata": {},
   "outputs": [],
   "source": [
    "#Assign labels\n",
    "kmeans_labels = kmeans.labels_\n",
    "kmeans_labels"
   ]
  },
  {
   "cell_type": "markdown",
   "metadata": {},
   "source": [
    "**Question:** Make a scatter plot of the log mass and log radius, using three different colors to distinguish data points from different clusters. Do you think the result is reasonable?"
   ]
  },
  {
   "cell_type": "markdown",
   "metadata": {},
   "source": [
    "[Add your response here]"
   ]
  },
  {
   "cell_type": "code",
   "execution_count": null,
   "metadata": {},
   "outputs": [],
   "source": [
    "plots.scatter(data_array[kmeans_labels == 0,1], data_array[kmeans_labels == 0,0], s=25, c='blue', label='Cluster 1')\n",
    "plots.scatter(data_array[kmeans_labels == 1,1], data_array[kmeans_labels == 1,0], s=25, c='green', label='Cluster 2')\n",
    "plots.scatter(data_array[kmeans_labels == 2,1], data_array[kmeans_labels == 2,0], s=25, c='brown', label='Cluster 3')\n",
    "plots.xlabel('log_10 Radius(R_Earth)')\n",
    "plots.ylabel('log_10 Mass(M_Earth)')"
   ]
  },
  {
   "cell_type": "markdown",
   "metadata": {},
   "source": [
    "# Part 3: Fit three seprate regression lines"
   ]
  },
  {
   "cell_type": "markdown",
   "metadata": {},
   "source": [
    "Based on the k-means results in Part 2, we now split the data into three datasets."
   ]
  },
  {
   "cell_type": "code",
   "execution_count": null,
   "metadata": {},
   "outputs": [],
   "source": [
    "data_cluster1 = data_array[kmeans_labels == 0,:]\n",
    "data_cluster2 = data_array[kmeans_labels == 1,:]\n",
    "data_cluster3 = data_array[kmeans_labels == 2,:]"
   ]
  },
  {
   "cell_type": "markdown",
   "metadata": {},
   "source": [
    "Recall the data format is an array, to use the regression function in Part 1, we need to convert the data format to Table. The code below convert an array to Table."
   ]
  },
  {
   "cell_type": "code",
   "execution_count": null,
   "metadata": {},
   "outputs": [],
   "source": [
    "# Convert array to Table\n",
    "log_kepler_data_c1 = Table().with_columns(\"st_mass\", data_cluster1[:, 0],\n",
    "                                         \"st_rad\", data_cluster1[:, 1])\n",
    "\n",
    "log_kepler_data_c2 = Table().with_columns(\"st_mass\", data_cluster2[:, 0],\n",
    "                                         \"st_rad\", data_cluster2[:, 1])\n",
    "\n",
    "log_kepler_data_c3 = Table().with_columns(\"st_mass\", data_cluster3[:, 0],\n",
    "                                         \"st_rad\", data_cluster3[:, 1])"
   ]
  },
  {
   "cell_type": "markdown",
   "metadata": {},
   "source": [
    "#### Fit three regression lines separately to three datasets\n",
    "\n",
    "For each dataset, obtain the predicted values and errors. Plot the errors on a single plot with the x-axis as the $\\log_{10} R$ and y-axis is the errors. Compare this plot with the one in Part 1, which one looks better?"
   ]
  },
  {
   "cell_type": "code",
   "execution_count": null,
   "metadata": {},
   "outputs": [],
   "source": [
    "#First get the slope and intercept for each dataset\n",
    "regression_slope_c1 = ...\n",
    "regression_intercept_c1 = ...\n",
    "\n",
    "regression_slope_c2 = ...\n",
    "regression_intercept_c2 = ...\n",
    "\n",
    "regression_slope_c3 = ...\n",
    "regression_intercept_c3 = ..."
   ]
  },
  {
   "cell_type": "code",
   "execution_count": null,
   "metadata": {},
   "outputs": [],
   "source": [
    "#Calculate the predicted values\n",
    "predicted_c1 = ...\n",
    "predicted_c2 = ...\n",
    "predicted_c3 = ..."
   ]
  },
  {
   "cell_type": "code",
   "execution_count": null,
   "metadata": {},
   "outputs": [],
   "source": [
    "#Now get the errors\n",
    "actual_c1 = ...\n",
    "errors_c1 = actual_c1 - predicted_c1\n",
    "\n",
    "actual_c2 = ...\n",
    "errors_c2 = actual_c2 - predicted_c2\n",
    "\n",
    "actual_c3 = ...\n",
    "errors_c3 = actual_c3 - predicted_c3"
   ]
  },
  {
   "cell_type": "markdown",
   "metadata": {},
   "source": [
    "To make the residual plot, we can combine the three datasets into a large dataset using .append(). See example in below:"
   ]
  },
  {
   "cell_type": "code",
   "execution_count": null,
   "metadata": {},
   "outputs": [],
   "source": [
    "data_new = data_c1\n",
    "data_new.append(data_c2)\n",
    "data_new.append(data_c3)\n",
    "data_new"
   ]
  },
  {
   "cell_type": "code",
   "execution_count": null,
   "metadata": {},
   "outputs": [],
   "source": [
    "# plot the predicted errors, compare it with the plot in Part 1\n"
   ]
  },
  {
   "cell_type": "markdown",
   "metadata": {},
   "source": [
    "#### Root Mean Square Error"
   ]
  },
  {
   "cell_type": "markdown",
   "metadata": {},
   "source": [
    "To compare the results with part 1, let's calculate the root mean square errors. \n",
    "\n",
    "To calculate the root mean square root for the whole dataset. We first obtain the means square errors for each dataset. We then sum up the three mean square errors. The root mean square error is the square root of the sum."
   ]
  },
  {
   "cell_type": "code",
   "execution_count": null,
   "metadata": {},
   "outputs": [],
   "source": [
    "..."
   ]
  },
  {
   "cell_type": "markdown",
   "metadata": {},
   "source": [
    "### Which method is better (Part 1 and Part 3)?\n",
    "\n",
    "Compare the results from part 1 and part 3. Which results look better? \n",
    "\n",
    "- Plot the best fit regression lines\n",
    "\n",
    "Which results you would use in practice? Why? \n"
   ]
  },
  {
   "cell_type": "code",
   "execution_count": null,
   "metadata": {},
   "outputs": [],
   "source": [
    "# Plot the best fit regression line in Part 1\n",
    "..."
   ]
  },
  {
   "cell_type": "code",
   "execution_count": null,
   "metadata": {},
   "outputs": [],
   "source": [
    "# Plot the Kmeans best fit regression lines in Part 3 in a single plot\n",
    "..."
   ]
  }
 ],
 "metadata": {
  "kernelspec": {
   "display_name": "Python 3",
   "language": "python",
   "name": "python3"
  },
  "language_info": {
   "codemirror_mode": {
    "name": "ipython",
    "version": 3
   },
   "file_extension": ".py",
   "mimetype": "text/x-python",
   "name": "python",
   "nbconvert_exporter": "python",
   "pygments_lexer": "ipython3",
   "version": "3.7.1"
  }
 },
 "nbformat": 4,
 "nbformat_minor": 2
}
