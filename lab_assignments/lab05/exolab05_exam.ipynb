{
 "cells": [
  {
   "cell_type": "markdown",
   "metadata": {},
   "source": [
    "# ExoStat Lab 05: Exam 1\n",
    "\n",
    "**Administrative details:**\n",
    "\n",
    "- This is the first midterm exam, and is due by the end of class today (5:20PM on Tuesday, February 19).\n",
    "\n",
    "- You can use your notes, previous Labs, or the internet, but you may not collaborate with anyone else.  If you have questions, please speak quietly with the instructor.\n",
    "\n",
    "**Submission:**\n",
    "\n",
    "Submit your completed exam both as a .pdf and .ipynb (Jupyter notebook) in Canvas.  \n",
    "\n",
    "To produce the .pdf, please do the following in order to preserve the cell structure of the notebook:  \n",
    "1.  Go to \"File\" at the top-left of your Jupyter Notebook\n",
    "2.  Under \"Download as\", select \"HTML (.html)\"\n",
    "3.  After the .html has downloaded, open it and then select \"File\" and \"Print\" (note you will not actually be printing)\n",
    "4.  From the print window, select the option to save as a .pdf\n",
    "\n",
    "To produce the .ipynb, please do the following:  \n",
    "1.  Go to \"File\" at the top-left of your Jupyter Notebook\n",
    "2.  Under \"Download as\", select \"Notebook (.ipynb)\""
   ]
  },
  {
   "cell_type": "code",
   "execution_count": null,
   "metadata": {},
   "outputs": [],
   "source": [
    "# These lines import the Numpy and Datascience modules.\n",
    "import numpy as np\n",
    "from datascience import *\n",
    "\n",
    "# These lines do some fancy plotting magic\n",
    "import matplotlib\n",
    "%matplotlib inline\n",
    "import matplotlib.pyplot as plots\n",
    "plots.style.use('fivethirtyeight')"
   ]
  },
  {
   "cell_type": "markdown",
   "metadata": {},
   "source": [
    "# 1.  Transit Method "
   ]
  },
  {
   "cell_type": "markdown",
   "metadata": {},
   "source": [
    "In this section, you will be looking at some Kepler light curve data to estimate the period and radius of the exoplanet.  Run the cell below to begin."
   ]
  },
  {
   "cell_type": "code",
   "execution_count": null,
   "metadata": {},
   "outputs": [],
   "source": [
    "from lightkurve import *"
   ]
  },
  {
   "cell_type": "markdown",
   "metadata": {},
   "source": [
    "**Question 1.1** An unnamed set of Kepler transit data needs to be loaded.  The name of the file is `exam1_kepler.csv.`  Begin by loading in the data and call it `kepler`."
   ]
  },
  {
   "cell_type": "code",
   "execution_count": null,
   "metadata": {},
   "outputs": [],
   "source": [
    "kepler = ...\n",
    "\n",
    "#Leave the line below as is...it just adjusts the formating of your table\n",
    "kepler.set_format(\"Flux\", NumberFormatter)"
   ]
  },
  {
   "cell_type": "markdown",
   "metadata": {},
   "source": [
    "**Question 1.2.**  Find the estimated period of the exoplanet.  Hint: when flatteing the light curve, use `window_length=101` and consider taking the estimated period from the periodogram multiplied by 4.  Your solution should include a plot of the flattened and folded light curve so you have a clear picture of the transit shape.  (You do not need to bin the folded light curve, but may if you find that helpful.)"
   ]
  },
  {
   "cell_type": "code",
   "execution_count": null,
   "metadata": {},
   "outputs": [],
   "source": [
    "..."
   ]
  },
  {
   "cell_type": "markdown",
   "metadata": {},
   "source": [
    "**Question 1.3.**  Given that the host star radius is 1.391 Solar radii, what is your estimate for the radius of the exoplanet?  Convert the units to $R_J$ (Jupiter radius)."
   ]
  },
  {
   "cell_type": "code",
   "execution_count": null,
   "metadata": {},
   "outputs": [],
   "source": [
    "..."
   ]
  },
  {
   "cell_type": "markdown",
   "metadata": {},
   "source": [
    "# 2. Radial Velocity Method"
   ]
  },
  {
   "cell_type": "markdown",
   "metadata": {},
   "source": [
    "In this section, you will be working with radial velocity data to estimate properties of an exoplanet."
   ]
  },
  {
   "cell_type": "code",
   "execution_count": null,
   "metadata": {},
   "outputs": [],
   "source": [
    "import scipy.signal as sig\n",
    "from scipy.optimize import curve_fit,fsolve\n",
    "from rv import *\n",
    "from rv_fit import *"
   ]
  },
  {
   "cell_type": "markdown",
   "metadata": {},
   "source": [
    "**Question 2.1.** Read in the RV data from `hd5319.dat` and print out the star name and mass using the function from the `rv` module."
   ]
  },
  {
   "cell_type": "code",
   "execution_count": null,
   "metadata": {},
   "outputs": [],
   "source": [
    "..."
   ]
  },
  {
   "cell_type": "markdown",
   "metadata": {},
   "source": [
    "**Question 2.2.** Make a scatterplot of the time and RV data.  Be sure to add axis labels!"
   ]
  },
  {
   "cell_type": "code",
   "execution_count": null,
   "metadata": {},
   "outputs": [],
   "source": [
    "..."
   ]
  },
  {
   "cell_type": "markdown",
   "metadata": {},
   "source": [
    "**Question 2.3.** From looking at the scatterplot above, give an estimate for the RV semi-amplitude and explain how you came to that estimate."
   ]
  },
  {
   "cell_type": "markdown",
   "metadata": {},
   "source": [
    "[Put response here]"
   ]
  },
  {
   "cell_type": "markdown",
   "metadata": {},
   "source": [
    "**Question 2.4.**  Fit the RV curve model to the dataset."
   ]
  },
  {
   "cell_type": "code",
   "execution_count": null,
   "metadata": {},
   "outputs": [],
   "source": [
    "..."
   ]
  },
  {
   "cell_type": "markdown",
   "metadata": {},
   "source": [
    "**Question 2.5.**  Looking at the residuals in the plot produced in the fitting function, do you notice any pattern?  What could it be?"
   ]
  },
  {
   "cell_type": "markdown",
   "metadata": {},
   "source": [
    "[Put answer here]"
   ]
  },
  {
   "cell_type": "markdown",
   "metadata": {},
   "source": [
    "**Question 2.6.**  What is the estimated mass, eccentricity, and orbital period of the exoplanet?"
   ]
  },
  {
   "cell_type": "markdown",
   "metadata": {},
   "source": [
    "Mass = ...\n",
    "\n",
    "Eccentricity = ...\n",
    "\n",
    "Orbital period = ..."
   ]
  },
  {
   "cell_type": "markdown",
   "metadata": {},
   "source": [
    "**Question 2.7.** Make a scatterplot of the fit model using `t_fit` on the horizontal axis and `vr_fit` on the vertical axis.  Add the observations as green points.\n",
    "Be sure to add axis labels!"
   ]
  },
  {
   "cell_type": "code",
   "execution_count": null,
   "metadata": {},
   "outputs": [],
   "source": [
    "..."
   ]
  },
  {
   "cell_type": "markdown",
   "metadata": {},
   "source": [
    "**Question 2.8.**  Write a function that takes the `JD` and `RV` observations, and fits a new model by taking an average of the `RV` values within $\\pm$250 JDs of each observation.  Hint:  If you are unsure how to begin, look back at the Sunspot section of Lab 04.  You may also find it helpful to make a separate table with `star.t` and `star.vr`.  Test your function on `JD` = 14000."
   ]
  },
  {
   "cell_type": "code",
   "execution_count": null,
   "metadata": {},
   "outputs": [],
   "source": [
    "..."
   ]
  },
  {
   "cell_type": "markdown",
   "metadata": {},
   "source": [
    "**Question 2.9.**  Now use the function you defined above and apply it to all the observed `JD`.  Then make a scatterplot that includes the original observations (in green), the model fit using the `rv_fit` module (in blue), and your new model with the local averaging (in red).  Be sure to add axis labels!"
   ]
  },
  {
   "cell_type": "code",
   "execution_count": null,
   "metadata": {},
   "outputs": [],
   "source": [
    "..."
   ]
  },
  {
   "cell_type": "markdown",
   "metadata": {},
   "source": [
    "**Question 2.10.** How does your new model do at modeling the data?  Explain why you think it does or does not do a reasonable job at modeling the observations."
   ]
  },
  {
   "cell_type": "markdown",
   "metadata": {},
   "source": [
    "[Put response here]"
   ]
  },
  {
   "cell_type": "markdown",
   "metadata": {},
   "source": [
    "# 3. Exploring Exoplanet Populations"
   ]
  },
  {
   "cell_type": "markdown",
   "metadata": {},
   "source": [
    "In this section, we are going to be using the confirmed exoplanet data, `confirmed_planets.csv`, and was collected from the [NASA Exoplanet Archive](https://exoplanetarchive.ipac.caltech.edu).  You can run the cell below to read in the data.  Note that we have to skip a number of rows to get rid of some of the header information."
   ]
  },
  {
   "cell_type": "code",
   "execution_count": null,
   "metadata": {},
   "outputs": [],
   "source": [
    "exoplanets = Table.read_table(\"confirmed_planets.csv\", skiprows = 71)\n",
    "exoplanets"
   ]
  },
  {
   "cell_type": "markdown",
   "metadata": {},
   "source": [
    "**Question 3.1.** How many exoplanets have been confirmed by each method?  Display your answer as a table with detection method in one column with the label, `Detection Method`, and a second column with the number of detections, labeled, `Number Detected`."
   ]
  },
  {
   "cell_type": "code",
   "execution_count": null,
   "metadata": {},
   "outputs": [],
   "source": [
    "..."
   ]
  },
  {
   "cell_type": "markdown",
   "metadata": {},
   "source": [
    "**Question 3.2.** Make a table that displays the detection method in one column, and the minimum planet mass detected by that detection method in a second column.  Note that planet mass is in the column `pl_bmassj`.  Sort the table in ascending order of smallest planet mass."
   ]
  },
  {
   "cell_type": "code",
   "execution_count": null,
   "metadata": {},
   "outputs": [],
   "source": [
    "..."
   ]
  },
  {
   "cell_type": "markdown",
   "metadata": {},
   "source": [
    "**Question 3.3.**  Make a scatterplot of exoplanet mass on the horizontal axis and exoplanet radius on the vertical axis for exoplanets discovered using the Transit or Radial Velocity methods.  Make the Transit points `red` and the Radial Velocity points `blue`.  Additionally, put both the horizontal and vertical axes on the `log` scale.  What general trends or patterns do you notice?"
   ]
  },
  {
   "cell_type": "code",
   "execution_count": null,
   "metadata": {},
   "outputs": [],
   "source": [
    "..."
   ]
  },
  {
   "cell_type": "markdown",
   "metadata": {},
   "source": [
    "[Comment on general trends/patterns here]"
   ]
  },
  {
   "cell_type": "markdown",
   "metadata": {},
   "source": [
    "**Question 3.4.** Using simulation with 10,000 trials, assign `chance_of_two_transit` to an estimate of the chance that if you pick three exoplanets from the `exoplanet` table uniformly at random (with replacement), at least two of the exoplanets were detected by the transit method. "
   ]
  },
  {
   "cell_type": "code",
   "execution_count": null,
   "metadata": {},
   "outputs": [],
   "source": [
    "..."
   ]
  },
  {
   "cell_type": "markdown",
   "metadata": {},
   "source": [
    "**Question 3.5.** Make a histogram of the planet masses of the exoplanets detected with the radial velocity method.  Define the bins to go from 0 to 60 with bin withs of 2. Note that the maximum mass is greater than 20, but the bins are set to focus on the main part of the distribution."
   ]
  },
  {
   "cell_type": "code",
   "execution_count": null,
   "metadata": {},
   "outputs": [],
   "source": [
    "..."
   ]
  },
  {
   "cell_type": "markdown",
   "metadata": {},
   "source": [
    "**Question 3.6.**  Looking at the histogram above, what percentage of the exoplanets detected using the RV method have masses less than 4 $M_J$?  Do this by looking at the histogram and show your arithmetic calculations in the cell below."
   ]
  },
  {
   "cell_type": "code",
   "execution_count": null,
   "metadata": {},
   "outputs": [],
   "source": [
    "..."
   ]
  },
  {
   "cell_type": "markdown",
   "metadata": {},
   "source": [
    "**Submission:** Once you're finished, follow the instructions at the top of this notebook to save as a .pdf and .ipynb.  Then submit the two files through Canvas."
   ]
  }
 ],
 "metadata": {
  "anaconda-cloud": {},
  "kernelspec": {
   "display_name": "Python 3",
   "language": "python",
   "name": "python3"
  },
  "language_info": {
   "codemirror_mode": {
    "name": "ipython",
    "version": 3
   },
   "file_extension": ".py",
   "mimetype": "text/x-python",
   "name": "python",
   "nbconvert_exporter": "python",
   "pygments_lexer": "ipython3",
   "version": "3.7.1"
  }
 },
 "nbformat": 4,
 "nbformat_minor": 1
}
